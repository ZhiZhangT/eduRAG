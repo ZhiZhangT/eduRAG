{
 "cells": [
  {
   "cell_type": "markdown",
   "metadata": {},
   "source": [
    "# Generate invalid_documents column for each query"
   ]
  },
  {
   "cell_type": "code",
   "execution_count": 15,
   "metadata": {},
   "outputs": [
    {
     "name": "stdout",
     "output_type": "stream",
     "text": [
      "{\"'674dcd9fb00b977d048c9306'\", \"'674dce98b00b977d048c93dc'\", \"'674dcdccb00b977d048c932a'\", \"'674dcdb4b00b977d048c931a'\", \"'674dce23b00b977d048c93b5'\", \"'674dce19b00b977d048c93a1'\", \"'674dcd9fb00b977d048c9305'\", \"'674dcddfb00b977d048c934f'\", \"'674dcd9db00b977d048c9300'\", \"'674dcddfb00b977d048c9350'\", \"'674dcde3b00b977d048c9357'\", \"'674dcdb4b00b977d048c931b'\", \"'674dce0fb00b977d048c9395'\", \"'674dce8db00b977d048c93c7'\", \"'674dcdd3b00b977d048c9337'\", \"'674dcdccb00b977d048c932b'\", \"'674dcd9cb00b977d048c92ff'\", \"'674dcde4b00b977d048c9358'\", \"'674dcd9eb00b977d048c9304'\", \"'674dce93b00b977d048c93d2'\", \"'674dce1ab00b977d048c93a4'\", \"'674dce93b00b977d048c93d3'\", \"'674dcdd3b00b977d048c9338'\", \"'674dcde1b00b977d048c9352'\", \"'674dce8eb00b977d048c93ca'\", \"'674dce25b00b977d048c93b9'\", \"'674dcdb5b00b977d048c931d'\", \"'674dce10b00b977d048c9397'\", \"'674dce0cb00b977d048c938f'\", \"'674dce18b00b977d048c939f'\", \"'674dcddeb00b977d048c934d'\", \"'674dcde3b00b977d048c9356'\"}\n"
     ]
    }
   ],
   "source": [
    "import pandas as pd\n",
    "import random\n",
    "\n",
    "# Load the CSV file\n",
    "file_path = 'emath_qns_eval_data.csv'\n",
    "df = pd.read_csv(file_path)\n",
    "\n",
    "# Ensure 'valid_documents' and 'invalid_documents' columns are strings for processing\n",
    "df['valid_documents'] = df['valid_documents'].astype(str)\n",
    "if 'invalid_documents' not in df.columns:\n",
    "    df['invalid_documents'] = ''\n",
    "\n",
    "# Extract all unique docIDs from the valid_documents column\n",
    "all_doc_ids = set()\n",
    "for docs in df['valid_documents']:\n",
    "    doc_ids = [doc.strip() for doc in docs.split(';') if doc.strip()]\n",
    "    all_doc_ids.update(doc_ids)\n",
    "\n",
    "print(all_doc_ids)\n"
   ]
  },
  {
   "cell_type": "code",
   "execution_count": 16,
   "metadata": {},
   "outputs": [
    {
     "name": "stdout",
     "output_type": "stream",
     "text": [
      "Valid docs:  {\"'674dcdb4b00b977d048c931b'\", \"'674dce0fb00b977d048c9395'\", \"'674dce10b00b977d048c9397'\", \"'674dcde1b00b977d048c9352'\", \"'674dce93b00b977d048c93d2'\", \"'674dce93b00b977d048c93d3'\"}\n",
      "Invalid docs pool:  [\"'674dcd9fb00b977d048c9306'\", \"'674dce98b00b977d048c93dc'\", \"'674dcdccb00b977d048c932a'\", \"'674dcdb4b00b977d048c931a'\", \"'674dce23b00b977d048c93b5'\", \"'674dce19b00b977d048c93a1'\", \"'674dcd9fb00b977d048c9305'\", \"'674dcddfb00b977d048c934f'\", \"'674dcd9db00b977d048c9300'\", \"'674dcddfb00b977d048c9350'\", \"'674dcde3b00b977d048c9357'\", \"'674dce8db00b977d048c93c7'\", \"'674dcdd3b00b977d048c9337'\", \"'674dcdccb00b977d048c932b'\", \"'674dcd9cb00b977d048c92ff'\", \"'674dcde4b00b977d048c9358'\", \"'674dcd9eb00b977d048c9304'\", \"'674dce1ab00b977d048c93a4'\", \"'674dcdd3b00b977d048c9338'\", \"'674dce8eb00b977d048c93ca'\", \"'674dce25b00b977d048c93b9'\", \"'674dcdb5b00b977d048c931d'\", \"'674dce0cb00b977d048c938f'\", \"'674dce18b00b977d048c939f'\", \"'674dcddeb00b977d048c934d'\", \"'674dcde3b00b977d048c9356'\"]\n",
      "Valid docs:  {\"'674dcdb4b00b977d048c931b'\", \"'674dce0fb00b977d048c9395'\", \"'674dce10b00b977d048c9397'\", \"'674dcde1b00b977d048c9352'\", \"'674dce93b00b977d048c93d2'\", \"'674dce93b00b977d048c93d3'\"}\n",
      "Invalid docs pool:  [\"'674dcd9fb00b977d048c9306'\", \"'674dce98b00b977d048c93dc'\", \"'674dcdccb00b977d048c932a'\", \"'674dcdb4b00b977d048c931a'\", \"'674dce23b00b977d048c93b5'\", \"'674dce19b00b977d048c93a1'\", \"'674dcd9fb00b977d048c9305'\", \"'674dcddfb00b977d048c934f'\", \"'674dcd9db00b977d048c9300'\", \"'674dcddfb00b977d048c9350'\", \"'674dcde3b00b977d048c9357'\", \"'674dce8db00b977d048c93c7'\", \"'674dcdd3b00b977d048c9337'\", \"'674dcdccb00b977d048c932b'\", \"'674dcd9cb00b977d048c92ff'\", \"'674dcde4b00b977d048c9358'\", \"'674dcd9eb00b977d048c9304'\", \"'674dce1ab00b977d048c93a4'\", \"'674dcdd3b00b977d048c9338'\", \"'674dce8eb00b977d048c93ca'\", \"'674dce25b00b977d048c93b9'\", \"'674dcdb5b00b977d048c931d'\", \"'674dce0cb00b977d048c938f'\", \"'674dce18b00b977d048c939f'\", \"'674dcddeb00b977d048c934d'\", \"'674dcde3b00b977d048c9356'\"]\n",
      "Valid docs:  {\"'674dcdb4b00b977d048c931b'\", \"'674dce0fb00b977d048c9395'\", \"'674dce10b00b977d048c9397'\", \"'674dcde1b00b977d048c9352'\", \"'674dce93b00b977d048c93d2'\", \"'674dce93b00b977d048c93d3'\"}\n",
      "Invalid docs pool:  [\"'674dcd9fb00b977d048c9306'\", \"'674dce98b00b977d048c93dc'\", \"'674dcdccb00b977d048c932a'\", \"'674dcdb4b00b977d048c931a'\", \"'674dce23b00b977d048c93b5'\", \"'674dce19b00b977d048c93a1'\", \"'674dcd9fb00b977d048c9305'\", \"'674dcddfb00b977d048c934f'\", \"'674dcd9db00b977d048c9300'\", \"'674dcddfb00b977d048c9350'\", \"'674dcde3b00b977d048c9357'\", \"'674dce8db00b977d048c93c7'\", \"'674dcdd3b00b977d048c9337'\", \"'674dcdccb00b977d048c932b'\", \"'674dcd9cb00b977d048c92ff'\", \"'674dcde4b00b977d048c9358'\", \"'674dcd9eb00b977d048c9304'\", \"'674dce1ab00b977d048c93a4'\", \"'674dcdd3b00b977d048c9338'\", \"'674dce8eb00b977d048c93ca'\", \"'674dce25b00b977d048c93b9'\", \"'674dcdb5b00b977d048c931d'\", \"'674dce0cb00b977d048c938f'\", \"'674dce18b00b977d048c939f'\", \"'674dcddeb00b977d048c934d'\", \"'674dcde3b00b977d048c9356'\"]\n",
      "Valid docs:  {\"'674dcdb4b00b977d048c931b'\", \"'674dce0fb00b977d048c9395'\", \"'674dce10b00b977d048c9397'\", \"'674dcde1b00b977d048c9352'\", \"'674dce93b00b977d048c93d2'\", \"'674dce93b00b977d048c93d3'\"}\n",
      "Invalid docs pool:  [\"'674dcd9fb00b977d048c9306'\", \"'674dce98b00b977d048c93dc'\", \"'674dcdccb00b977d048c932a'\", \"'674dcdb4b00b977d048c931a'\", \"'674dce23b00b977d048c93b5'\", \"'674dce19b00b977d048c93a1'\", \"'674dcd9fb00b977d048c9305'\", \"'674dcddfb00b977d048c934f'\", \"'674dcd9db00b977d048c9300'\", \"'674dcddfb00b977d048c9350'\", \"'674dcde3b00b977d048c9357'\", \"'674dce8db00b977d048c93c7'\", \"'674dcdd3b00b977d048c9337'\", \"'674dcdccb00b977d048c932b'\", \"'674dcd9cb00b977d048c92ff'\", \"'674dcde4b00b977d048c9358'\", \"'674dcd9eb00b977d048c9304'\", \"'674dce1ab00b977d048c93a4'\", \"'674dcdd3b00b977d048c9338'\", \"'674dce8eb00b977d048c93ca'\", \"'674dce25b00b977d048c93b9'\", \"'674dcdb5b00b977d048c931d'\", \"'674dce0cb00b977d048c938f'\", \"'674dce18b00b977d048c939f'\", \"'674dcddeb00b977d048c934d'\", \"'674dcde3b00b977d048c9356'\"]\n",
      "Valid docs:  {\"'674dcdb4b00b977d048c931b'\", \"'674dce0fb00b977d048c9395'\", \"'674dce10b00b977d048c9397'\", \"'674dcde1b00b977d048c9352'\", \"'674dce93b00b977d048c93d2'\", \"'674dce93b00b977d048c93d3'\"}\n",
      "Invalid docs pool:  [\"'674dcd9fb00b977d048c9306'\", \"'674dce98b00b977d048c93dc'\", \"'674dcdccb00b977d048c932a'\", \"'674dcdb4b00b977d048c931a'\", \"'674dce23b00b977d048c93b5'\", \"'674dce19b00b977d048c93a1'\", \"'674dcd9fb00b977d048c9305'\", \"'674dcddfb00b977d048c934f'\", \"'674dcd9db00b977d048c9300'\", \"'674dcddfb00b977d048c9350'\", \"'674dcde3b00b977d048c9357'\", \"'674dce8db00b977d048c93c7'\", \"'674dcdd3b00b977d048c9337'\", \"'674dcdccb00b977d048c932b'\", \"'674dcd9cb00b977d048c92ff'\", \"'674dcde4b00b977d048c9358'\", \"'674dcd9eb00b977d048c9304'\", \"'674dce1ab00b977d048c93a4'\", \"'674dcdd3b00b977d048c9338'\", \"'674dce8eb00b977d048c93ca'\", \"'674dce25b00b977d048c93b9'\", \"'674dcdb5b00b977d048c931d'\", \"'674dce0cb00b977d048c938f'\", \"'674dce18b00b977d048c939f'\", \"'674dcddeb00b977d048c934d'\", \"'674dcde3b00b977d048c9356'\"]\n",
      "Valid docs:  {\"'674dce98b00b977d048c93dc'\", \"'674dce8db00b977d048c93c7'\", \"'674dce0cb00b977d048c938f'\", \"'674dce8eb00b977d048c93ca'\", \"'674dcd9cb00b977d048c92ff'\", \"'674dcddeb00b977d048c934d'\", \"'674dcddfb00b977d048c934f'\", \"'674dcd9db00b977d048c9300'\"}\n",
      "Invalid docs pool:  [\"'674dcd9fb00b977d048c9306'\", \"'674dcdccb00b977d048c932a'\", \"'674dcdb4b00b977d048c931a'\", \"'674dce23b00b977d048c93b5'\", \"'674dce19b00b977d048c93a1'\", \"'674dcd9fb00b977d048c9305'\", \"'674dcddfb00b977d048c9350'\", \"'674dcde3b00b977d048c9357'\", \"'674dcdb4b00b977d048c931b'\", \"'674dce0fb00b977d048c9395'\", \"'674dcdd3b00b977d048c9337'\", \"'674dcdccb00b977d048c932b'\", \"'674dcde4b00b977d048c9358'\", \"'674dcd9eb00b977d048c9304'\", \"'674dce1ab00b977d048c93a4'\", \"'674dce93b00b977d048c93d2'\", \"'674dce93b00b977d048c93d3'\", \"'674dcdd3b00b977d048c9338'\", \"'674dcde1b00b977d048c9352'\", \"'674dce25b00b977d048c93b9'\", \"'674dcdb5b00b977d048c931d'\", \"'674dce10b00b977d048c9397'\", \"'674dce18b00b977d048c939f'\", \"'674dcde3b00b977d048c9356'\"]\n",
      "Valid docs:  {\"'674dce98b00b977d048c93dc'\", \"'674dce8db00b977d048c93c7'\", \"'674dce0cb00b977d048c938f'\", \"'674dce8eb00b977d048c93ca'\", \"'674dcd9cb00b977d048c92ff'\", \"'674dcddeb00b977d048c934d'\", \"'674dcddfb00b977d048c934f'\", \"'674dcd9db00b977d048c9300'\"}\n",
      "Invalid docs pool:  [\"'674dcd9fb00b977d048c9306'\", \"'674dcdccb00b977d048c932a'\", \"'674dcdb4b00b977d048c931a'\", \"'674dce23b00b977d048c93b5'\", \"'674dce19b00b977d048c93a1'\", \"'674dcd9fb00b977d048c9305'\", \"'674dcddfb00b977d048c9350'\", \"'674dcde3b00b977d048c9357'\", \"'674dcdb4b00b977d048c931b'\", \"'674dce0fb00b977d048c9395'\", \"'674dcdd3b00b977d048c9337'\", \"'674dcdccb00b977d048c932b'\", \"'674dcde4b00b977d048c9358'\", \"'674dcd9eb00b977d048c9304'\", \"'674dce1ab00b977d048c93a4'\", \"'674dce93b00b977d048c93d2'\", \"'674dce93b00b977d048c93d3'\", \"'674dcdd3b00b977d048c9338'\", \"'674dcde1b00b977d048c9352'\", \"'674dce25b00b977d048c93b9'\", \"'674dcdb5b00b977d048c931d'\", \"'674dce10b00b977d048c9397'\", \"'674dce18b00b977d048c939f'\", \"'674dcde3b00b977d048c9356'\"]\n",
      "Valid docs:  {\"'674dce98b00b977d048c93dc'\", \"'674dce8db00b977d048c93c7'\", \"'674dce0cb00b977d048c938f'\", \"'674dce8eb00b977d048c93ca'\", \"'674dcd9cb00b977d048c92ff'\", \"'674dcddeb00b977d048c934d'\", \"'674dcddfb00b977d048c934f'\", \"'674dcd9db00b977d048c9300'\"}\n",
      "Invalid docs pool:  [\"'674dcd9fb00b977d048c9306'\", \"'674dcdccb00b977d048c932a'\", \"'674dcdb4b00b977d048c931a'\", \"'674dce23b00b977d048c93b5'\", \"'674dce19b00b977d048c93a1'\", \"'674dcd9fb00b977d048c9305'\", \"'674dcddfb00b977d048c9350'\", \"'674dcde3b00b977d048c9357'\", \"'674dcdb4b00b977d048c931b'\", \"'674dce0fb00b977d048c9395'\", \"'674dcdd3b00b977d048c9337'\", \"'674dcdccb00b977d048c932b'\", \"'674dcde4b00b977d048c9358'\", \"'674dcd9eb00b977d048c9304'\", \"'674dce1ab00b977d048c93a4'\", \"'674dce93b00b977d048c93d2'\", \"'674dce93b00b977d048c93d3'\", \"'674dcdd3b00b977d048c9338'\", \"'674dcde1b00b977d048c9352'\", \"'674dce25b00b977d048c93b9'\", \"'674dcdb5b00b977d048c931d'\", \"'674dce10b00b977d048c9397'\", \"'674dce18b00b977d048c939f'\", \"'674dcde3b00b977d048c9356'\"]\n",
      "Valid docs:  {\"'674dce98b00b977d048c93dc'\", \"'674dce8db00b977d048c93c7'\", \"'674dce0cb00b977d048c938f'\", \"'674dce8eb00b977d048c93ca'\", \"'674dcd9cb00b977d048c92ff'\", \"'674dcddeb00b977d048c934d'\", \"'674dcddfb00b977d048c934f'\", \"'674dcd9db00b977d048c9300'\"}\n",
      "Invalid docs pool:  [\"'674dcd9fb00b977d048c9306'\", \"'674dcdccb00b977d048c932a'\", \"'674dcdb4b00b977d048c931a'\", \"'674dce23b00b977d048c93b5'\", \"'674dce19b00b977d048c93a1'\", \"'674dcd9fb00b977d048c9305'\", \"'674dcddfb00b977d048c9350'\", \"'674dcde3b00b977d048c9357'\", \"'674dcdb4b00b977d048c931b'\", \"'674dce0fb00b977d048c9395'\", \"'674dcdd3b00b977d048c9337'\", \"'674dcdccb00b977d048c932b'\", \"'674dcde4b00b977d048c9358'\", \"'674dcd9eb00b977d048c9304'\", \"'674dce1ab00b977d048c93a4'\", \"'674dce93b00b977d048c93d2'\", \"'674dce93b00b977d048c93d3'\", \"'674dcdd3b00b977d048c9338'\", \"'674dcde1b00b977d048c9352'\", \"'674dce25b00b977d048c93b9'\", \"'674dcdb5b00b977d048c931d'\", \"'674dce10b00b977d048c9397'\", \"'674dce18b00b977d048c939f'\", \"'674dcde3b00b977d048c9356'\"]\n",
      "Valid docs:  {\"'674dce98b00b977d048c93dc'\", \"'674dce8db00b977d048c93c7'\", \"'674dce0cb00b977d048c938f'\", \"'674dce8eb00b977d048c93ca'\", \"'674dcd9cb00b977d048c92ff'\", \"'674dcddeb00b977d048c934d'\", \"'674dcddfb00b977d048c934f'\", \"'674dcd9db00b977d048c9300'\"}\n",
      "Invalid docs pool:  [\"'674dcd9fb00b977d048c9306'\", \"'674dcdccb00b977d048c932a'\", \"'674dcdb4b00b977d048c931a'\", \"'674dce23b00b977d048c93b5'\", \"'674dce19b00b977d048c93a1'\", \"'674dcd9fb00b977d048c9305'\", \"'674dcddfb00b977d048c9350'\", \"'674dcde3b00b977d048c9357'\", \"'674dcdb4b00b977d048c931b'\", \"'674dce0fb00b977d048c9395'\", \"'674dcdd3b00b977d048c9337'\", \"'674dcdccb00b977d048c932b'\", \"'674dcde4b00b977d048c9358'\", \"'674dcd9eb00b977d048c9304'\", \"'674dce1ab00b977d048c93a4'\", \"'674dce93b00b977d048c93d2'\", \"'674dce93b00b977d048c93d3'\", \"'674dcdd3b00b977d048c9338'\", \"'674dcde1b00b977d048c9352'\", \"'674dce25b00b977d048c93b9'\", \"'674dcdb5b00b977d048c931d'\", \"'674dce10b00b977d048c9397'\", \"'674dce18b00b977d048c939f'\", \"'674dcde3b00b977d048c9356'\"]\n",
      "Valid docs:  {\"'674dcdd3b00b977d048c9338'\", \"'674dcdb4b00b977d048c931a'\", \"'674dce23b00b977d048c93b5'\", \"'674dcdd3b00b977d048c9337'\", \"'674dce25b00b977d048c93b9'\"}\n",
      "Invalid docs pool:  [\"'674dcd9fb00b977d048c9306'\", \"'674dce98b00b977d048c93dc'\", \"'674dcdccb00b977d048c932a'\", \"'674dce19b00b977d048c93a1'\", \"'674dcd9fb00b977d048c9305'\", \"'674dcddfb00b977d048c934f'\", \"'674dcd9db00b977d048c9300'\", \"'674dcddfb00b977d048c9350'\", \"'674dcde3b00b977d048c9357'\", \"'674dcdb4b00b977d048c931b'\", \"'674dce0fb00b977d048c9395'\", \"'674dce8db00b977d048c93c7'\", \"'674dcdccb00b977d048c932b'\", \"'674dcd9cb00b977d048c92ff'\", \"'674dcde4b00b977d048c9358'\", \"'674dcd9eb00b977d048c9304'\", \"'674dce93b00b977d048c93d2'\", \"'674dce1ab00b977d048c93a4'\", \"'674dce93b00b977d048c93d3'\", \"'674dcde1b00b977d048c9352'\", \"'674dce8eb00b977d048c93ca'\", \"'674dcdb5b00b977d048c931d'\", \"'674dce10b00b977d048c9397'\", \"'674dce0cb00b977d048c938f'\", \"'674dce18b00b977d048c939f'\", \"'674dcddeb00b977d048c934d'\", \"'674dcde3b00b977d048c9356'\"]\n",
      "Valid docs:  {\"'674dcdd3b00b977d048c9338'\", \"'674dcdb4b00b977d048c931a'\", \"'674dce23b00b977d048c93b5'\", \"'674dcdd3b00b977d048c9337'\", \"'674dce25b00b977d048c93b9'\"}\n",
      "Invalid docs pool:  [\"'674dcd9fb00b977d048c9306'\", \"'674dce98b00b977d048c93dc'\", \"'674dcdccb00b977d048c932a'\", \"'674dce19b00b977d048c93a1'\", \"'674dcd9fb00b977d048c9305'\", \"'674dcddfb00b977d048c934f'\", \"'674dcd9db00b977d048c9300'\", \"'674dcddfb00b977d048c9350'\", \"'674dcde3b00b977d048c9357'\", \"'674dcdb4b00b977d048c931b'\", \"'674dce0fb00b977d048c9395'\", \"'674dce8db00b977d048c93c7'\", \"'674dcdccb00b977d048c932b'\", \"'674dcd9cb00b977d048c92ff'\", \"'674dcde4b00b977d048c9358'\", \"'674dcd9eb00b977d048c9304'\", \"'674dce93b00b977d048c93d2'\", \"'674dce1ab00b977d048c93a4'\", \"'674dce93b00b977d048c93d3'\", \"'674dcde1b00b977d048c9352'\", \"'674dce8eb00b977d048c93ca'\", \"'674dcdb5b00b977d048c931d'\", \"'674dce10b00b977d048c9397'\", \"'674dce0cb00b977d048c938f'\", \"'674dce18b00b977d048c939f'\", \"'674dcddeb00b977d048c934d'\", \"'674dcde3b00b977d048c9356'\"]\n",
      "Valid docs:  {\"'674dcdd3b00b977d048c9338'\", \"'674dcdb4b00b977d048c931a'\", \"'674dce23b00b977d048c93b5'\", \"'674dcdd3b00b977d048c9337'\", \"'674dce25b00b977d048c93b9'\"}\n",
      "Invalid docs pool:  [\"'674dcd9fb00b977d048c9306'\", \"'674dce98b00b977d048c93dc'\", \"'674dcdccb00b977d048c932a'\", \"'674dce19b00b977d048c93a1'\", \"'674dcd9fb00b977d048c9305'\", \"'674dcddfb00b977d048c934f'\", \"'674dcd9db00b977d048c9300'\", \"'674dcddfb00b977d048c9350'\", \"'674dcde3b00b977d048c9357'\", \"'674dcdb4b00b977d048c931b'\", \"'674dce0fb00b977d048c9395'\", \"'674dce8db00b977d048c93c7'\", \"'674dcdccb00b977d048c932b'\", \"'674dcd9cb00b977d048c92ff'\", \"'674dcde4b00b977d048c9358'\", \"'674dcd9eb00b977d048c9304'\", \"'674dce93b00b977d048c93d2'\", \"'674dce1ab00b977d048c93a4'\", \"'674dce93b00b977d048c93d3'\", \"'674dcde1b00b977d048c9352'\", \"'674dce8eb00b977d048c93ca'\", \"'674dcdb5b00b977d048c931d'\", \"'674dce10b00b977d048c9397'\", \"'674dce0cb00b977d048c938f'\", \"'674dce18b00b977d048c939f'\", \"'674dcddeb00b977d048c934d'\", \"'674dcde3b00b977d048c9356'\"]\n",
      "Valid docs:  {\"'674dcdd3b00b977d048c9338'\", \"'674dcdb4b00b977d048c931a'\", \"'674dce23b00b977d048c93b5'\", \"'674dcdd3b00b977d048c9337'\", \"'674dce25b00b977d048c93b9'\"}\n",
      "Invalid docs pool:  [\"'674dcd9fb00b977d048c9306'\", \"'674dce98b00b977d048c93dc'\", \"'674dcdccb00b977d048c932a'\", \"'674dce19b00b977d048c93a1'\", \"'674dcd9fb00b977d048c9305'\", \"'674dcddfb00b977d048c934f'\", \"'674dcd9db00b977d048c9300'\", \"'674dcddfb00b977d048c9350'\", \"'674dcde3b00b977d048c9357'\", \"'674dcdb4b00b977d048c931b'\", \"'674dce0fb00b977d048c9395'\", \"'674dce8db00b977d048c93c7'\", \"'674dcdccb00b977d048c932b'\", \"'674dcd9cb00b977d048c92ff'\", \"'674dcde4b00b977d048c9358'\", \"'674dcd9eb00b977d048c9304'\", \"'674dce93b00b977d048c93d2'\", \"'674dce1ab00b977d048c93a4'\", \"'674dce93b00b977d048c93d3'\", \"'674dcde1b00b977d048c9352'\", \"'674dce8eb00b977d048c93ca'\", \"'674dcdb5b00b977d048c931d'\", \"'674dce10b00b977d048c9397'\", \"'674dce0cb00b977d048c938f'\", \"'674dce18b00b977d048c939f'\", \"'674dcddeb00b977d048c934d'\", \"'674dcde3b00b977d048c9356'\"]\n",
      "Valid docs:  {\"'674dcdd3b00b977d048c9338'\", \"'674dcdb4b00b977d048c931a'\", \"'674dce23b00b977d048c93b5'\", \"'674dcdd3b00b977d048c9337'\", \"'674dce25b00b977d048c93b9'\"}\n",
      "Invalid docs pool:  [\"'674dcd9fb00b977d048c9306'\", \"'674dce98b00b977d048c93dc'\", \"'674dcdccb00b977d048c932a'\", \"'674dce19b00b977d048c93a1'\", \"'674dcd9fb00b977d048c9305'\", \"'674dcddfb00b977d048c934f'\", \"'674dcd9db00b977d048c9300'\", \"'674dcddfb00b977d048c9350'\", \"'674dcde3b00b977d048c9357'\", \"'674dcdb4b00b977d048c931b'\", \"'674dce0fb00b977d048c9395'\", \"'674dce8db00b977d048c93c7'\", \"'674dcdccb00b977d048c932b'\", \"'674dcd9cb00b977d048c92ff'\", \"'674dcde4b00b977d048c9358'\", \"'674dcd9eb00b977d048c9304'\", \"'674dce93b00b977d048c93d2'\", \"'674dce1ab00b977d048c93a4'\", \"'674dce93b00b977d048c93d3'\", \"'674dcde1b00b977d048c9352'\", \"'674dce8eb00b977d048c93ca'\", \"'674dcdb5b00b977d048c931d'\", \"'674dce10b00b977d048c9397'\", \"'674dce0cb00b977d048c938f'\", \"'674dce18b00b977d048c939f'\", \"'674dcddeb00b977d048c934d'\", \"'674dcde3b00b977d048c9356'\"]\n",
      "Valid docs:  {\"'674dce1ab00b977d048c93a4'\", \"'674dcde4b00b977d048c9358'\", \"'674dcde3b00b977d048c9356'\", \"'674dcde3b00b977d048c9357'\"}\n",
      "Invalid docs pool:  [\"'674dcd9fb00b977d048c9306'\", \"'674dce98b00b977d048c93dc'\", \"'674dcdccb00b977d048c932a'\", \"'674dcdb4b00b977d048c931a'\", \"'674dce23b00b977d048c93b5'\", \"'674dce19b00b977d048c93a1'\", \"'674dcd9fb00b977d048c9305'\", \"'674dcddfb00b977d048c934f'\", \"'674dcd9db00b977d048c9300'\", \"'674dcddfb00b977d048c9350'\", \"'674dcdb4b00b977d048c931b'\", \"'674dce0fb00b977d048c9395'\", \"'674dce8db00b977d048c93c7'\", \"'674dcdd3b00b977d048c9337'\", \"'674dcdccb00b977d048c932b'\", \"'674dcd9cb00b977d048c92ff'\", \"'674dcd9eb00b977d048c9304'\", \"'674dce93b00b977d048c93d2'\", \"'674dce93b00b977d048c93d3'\", \"'674dcdd3b00b977d048c9338'\", \"'674dcde1b00b977d048c9352'\", \"'674dce8eb00b977d048c93ca'\", \"'674dce25b00b977d048c93b9'\", \"'674dcdb5b00b977d048c931d'\", \"'674dce10b00b977d048c9397'\", \"'674dce0cb00b977d048c938f'\", \"'674dce18b00b977d048c939f'\", \"'674dcddeb00b977d048c934d'\"]\n",
      "Valid docs:  {\"'674dce1ab00b977d048c93a4'\", \"'674dcde4b00b977d048c9358'\", \"'674dcde3b00b977d048c9356'\", \"'674dcde3b00b977d048c9357'\"}\n",
      "Invalid docs pool:  [\"'674dcd9fb00b977d048c9306'\", \"'674dce98b00b977d048c93dc'\", \"'674dcdccb00b977d048c932a'\", \"'674dcdb4b00b977d048c931a'\", \"'674dce23b00b977d048c93b5'\", \"'674dce19b00b977d048c93a1'\", \"'674dcd9fb00b977d048c9305'\", \"'674dcddfb00b977d048c934f'\", \"'674dcd9db00b977d048c9300'\", \"'674dcddfb00b977d048c9350'\", \"'674dcdb4b00b977d048c931b'\", \"'674dce0fb00b977d048c9395'\", \"'674dce8db00b977d048c93c7'\", \"'674dcdd3b00b977d048c9337'\", \"'674dcdccb00b977d048c932b'\", \"'674dcd9cb00b977d048c92ff'\", \"'674dcd9eb00b977d048c9304'\", \"'674dce93b00b977d048c93d2'\", \"'674dce93b00b977d048c93d3'\", \"'674dcdd3b00b977d048c9338'\", \"'674dcde1b00b977d048c9352'\", \"'674dce8eb00b977d048c93ca'\", \"'674dce25b00b977d048c93b9'\", \"'674dcdb5b00b977d048c931d'\", \"'674dce10b00b977d048c9397'\", \"'674dce0cb00b977d048c938f'\", \"'674dce18b00b977d048c939f'\", \"'674dcddeb00b977d048c934d'\"]\n",
      "Valid docs:  {\"'674dce1ab00b977d048c93a4'\", \"'674dcde4b00b977d048c9358'\", \"'674dcde3b00b977d048c9356'\", \"'674dcde3b00b977d048c9357'\"}\n",
      "Invalid docs pool:  [\"'674dcd9fb00b977d048c9306'\", \"'674dce98b00b977d048c93dc'\", \"'674dcdccb00b977d048c932a'\", \"'674dcdb4b00b977d048c931a'\", \"'674dce23b00b977d048c93b5'\", \"'674dce19b00b977d048c93a1'\", \"'674dcd9fb00b977d048c9305'\", \"'674dcddfb00b977d048c934f'\", \"'674dcd9db00b977d048c9300'\", \"'674dcddfb00b977d048c9350'\", \"'674dcdb4b00b977d048c931b'\", \"'674dce0fb00b977d048c9395'\", \"'674dce8db00b977d048c93c7'\", \"'674dcdd3b00b977d048c9337'\", \"'674dcdccb00b977d048c932b'\", \"'674dcd9cb00b977d048c92ff'\", \"'674dcd9eb00b977d048c9304'\", \"'674dce93b00b977d048c93d2'\", \"'674dce93b00b977d048c93d3'\", \"'674dcdd3b00b977d048c9338'\", \"'674dcde1b00b977d048c9352'\", \"'674dce8eb00b977d048c93ca'\", \"'674dce25b00b977d048c93b9'\", \"'674dcdb5b00b977d048c931d'\", \"'674dce10b00b977d048c9397'\", \"'674dce0cb00b977d048c938f'\", \"'674dce18b00b977d048c939f'\", \"'674dcddeb00b977d048c934d'\"]\n",
      "Valid docs:  {\"'674dce1ab00b977d048c93a4'\", \"'674dcde4b00b977d048c9358'\", \"'674dcde3b00b977d048c9356'\", \"'674dcde3b00b977d048c9357'\"}\n",
      "Invalid docs pool:  [\"'674dcd9fb00b977d048c9306'\", \"'674dce98b00b977d048c93dc'\", \"'674dcdccb00b977d048c932a'\", \"'674dcdb4b00b977d048c931a'\", \"'674dce23b00b977d048c93b5'\", \"'674dce19b00b977d048c93a1'\", \"'674dcd9fb00b977d048c9305'\", \"'674dcddfb00b977d048c934f'\", \"'674dcd9db00b977d048c9300'\", \"'674dcddfb00b977d048c9350'\", \"'674dcdb4b00b977d048c931b'\", \"'674dce0fb00b977d048c9395'\", \"'674dce8db00b977d048c93c7'\", \"'674dcdd3b00b977d048c9337'\", \"'674dcdccb00b977d048c932b'\", \"'674dcd9cb00b977d048c92ff'\", \"'674dcd9eb00b977d048c9304'\", \"'674dce93b00b977d048c93d2'\", \"'674dce93b00b977d048c93d3'\", \"'674dcdd3b00b977d048c9338'\", \"'674dcde1b00b977d048c9352'\", \"'674dce8eb00b977d048c93ca'\", \"'674dce25b00b977d048c93b9'\", \"'674dcdb5b00b977d048c931d'\", \"'674dce10b00b977d048c9397'\", \"'674dce0cb00b977d048c938f'\", \"'674dce18b00b977d048c939f'\", \"'674dcddeb00b977d048c934d'\"]\n",
      "Valid docs:  {\"'674dce1ab00b977d048c93a4'\", \"'674dcde4b00b977d048c9358'\", \"'674dcde3b00b977d048c9356'\", \"'674dcde3b00b977d048c9357'\"}\n",
      "Invalid docs pool:  [\"'674dcd9fb00b977d048c9306'\", \"'674dce98b00b977d048c93dc'\", \"'674dcdccb00b977d048c932a'\", \"'674dcdb4b00b977d048c931a'\", \"'674dce23b00b977d048c93b5'\", \"'674dce19b00b977d048c93a1'\", \"'674dcd9fb00b977d048c9305'\", \"'674dcddfb00b977d048c934f'\", \"'674dcd9db00b977d048c9300'\", \"'674dcddfb00b977d048c9350'\", \"'674dcdb4b00b977d048c931b'\", \"'674dce0fb00b977d048c9395'\", \"'674dce8db00b977d048c93c7'\", \"'674dcdd3b00b977d048c9337'\", \"'674dcdccb00b977d048c932b'\", \"'674dcd9cb00b977d048c92ff'\", \"'674dcd9eb00b977d048c9304'\", \"'674dce93b00b977d048c93d2'\", \"'674dce93b00b977d048c93d3'\", \"'674dcdd3b00b977d048c9338'\", \"'674dcde1b00b977d048c9352'\", \"'674dce8eb00b977d048c93ca'\", \"'674dce25b00b977d048c93b9'\", \"'674dcdb5b00b977d048c931d'\", \"'674dce10b00b977d048c9397'\", \"'674dce0cb00b977d048c938f'\", \"'674dce18b00b977d048c939f'\", \"'674dcddeb00b977d048c934d'\"]\n",
      "Valid docs:  {\"'674dcddfb00b977d048c9350'\", \"'674dcd9eb00b977d048c9304'\", \"'674dcd9fb00b977d048c9305'\"}\n",
      "Invalid docs pool:  [\"'674dcd9fb00b977d048c9306'\", \"'674dce98b00b977d048c93dc'\", \"'674dcdccb00b977d048c932a'\", \"'674dcdb4b00b977d048c931a'\", \"'674dce23b00b977d048c93b5'\", \"'674dce19b00b977d048c93a1'\", \"'674dcddfb00b977d048c934f'\", \"'674dcd9db00b977d048c9300'\", \"'674dcde3b00b977d048c9357'\", \"'674dcdb4b00b977d048c931b'\", \"'674dce0fb00b977d048c9395'\", \"'674dce8db00b977d048c93c7'\", \"'674dcdd3b00b977d048c9337'\", \"'674dcdccb00b977d048c932b'\", \"'674dcd9cb00b977d048c92ff'\", \"'674dcde4b00b977d048c9358'\", \"'674dce93b00b977d048c93d2'\", \"'674dce1ab00b977d048c93a4'\", \"'674dce93b00b977d048c93d3'\", \"'674dcdd3b00b977d048c9338'\", \"'674dcde1b00b977d048c9352'\", \"'674dce8eb00b977d048c93ca'\", \"'674dce25b00b977d048c93b9'\", \"'674dcdb5b00b977d048c931d'\", \"'674dce10b00b977d048c9397'\", \"'674dce0cb00b977d048c938f'\", \"'674dce18b00b977d048c939f'\", \"'674dcddeb00b977d048c934d'\", \"'674dcde3b00b977d048c9356'\"]\n",
      "Valid docs:  {\"'674dcddfb00b977d048c9350'\", \"'674dcd9eb00b977d048c9304'\", \"'674dcd9fb00b977d048c9305'\"}\n",
      "Invalid docs pool:  [\"'674dcd9fb00b977d048c9306'\", \"'674dce98b00b977d048c93dc'\", \"'674dcdccb00b977d048c932a'\", \"'674dcdb4b00b977d048c931a'\", \"'674dce23b00b977d048c93b5'\", \"'674dce19b00b977d048c93a1'\", \"'674dcddfb00b977d048c934f'\", \"'674dcd9db00b977d048c9300'\", \"'674dcde3b00b977d048c9357'\", \"'674dcdb4b00b977d048c931b'\", \"'674dce0fb00b977d048c9395'\", \"'674dce8db00b977d048c93c7'\", \"'674dcdd3b00b977d048c9337'\", \"'674dcdccb00b977d048c932b'\", \"'674dcd9cb00b977d048c92ff'\", \"'674dcde4b00b977d048c9358'\", \"'674dce93b00b977d048c93d2'\", \"'674dce1ab00b977d048c93a4'\", \"'674dce93b00b977d048c93d3'\", \"'674dcdd3b00b977d048c9338'\", \"'674dcde1b00b977d048c9352'\", \"'674dce8eb00b977d048c93ca'\", \"'674dce25b00b977d048c93b9'\", \"'674dcdb5b00b977d048c931d'\", \"'674dce10b00b977d048c9397'\", \"'674dce0cb00b977d048c938f'\", \"'674dce18b00b977d048c939f'\", \"'674dcddeb00b977d048c934d'\", \"'674dcde3b00b977d048c9356'\"]\n",
      "Valid docs:  {\"'674dcddfb00b977d048c9350'\", \"'674dcd9eb00b977d048c9304'\", \"'674dcd9fb00b977d048c9305'\"}\n",
      "Invalid docs pool:  [\"'674dcd9fb00b977d048c9306'\", \"'674dce98b00b977d048c93dc'\", \"'674dcdccb00b977d048c932a'\", \"'674dcdb4b00b977d048c931a'\", \"'674dce23b00b977d048c93b5'\", \"'674dce19b00b977d048c93a1'\", \"'674dcddfb00b977d048c934f'\", \"'674dcd9db00b977d048c9300'\", \"'674dcde3b00b977d048c9357'\", \"'674dcdb4b00b977d048c931b'\", \"'674dce0fb00b977d048c9395'\", \"'674dce8db00b977d048c93c7'\", \"'674dcdd3b00b977d048c9337'\", \"'674dcdccb00b977d048c932b'\", \"'674dcd9cb00b977d048c92ff'\", \"'674dcde4b00b977d048c9358'\", \"'674dce93b00b977d048c93d2'\", \"'674dce1ab00b977d048c93a4'\", \"'674dce93b00b977d048c93d3'\", \"'674dcdd3b00b977d048c9338'\", \"'674dcde1b00b977d048c9352'\", \"'674dce8eb00b977d048c93ca'\", \"'674dce25b00b977d048c93b9'\", \"'674dcdb5b00b977d048c931d'\", \"'674dce10b00b977d048c9397'\", \"'674dce0cb00b977d048c938f'\", \"'674dce18b00b977d048c939f'\", \"'674dcddeb00b977d048c934d'\", \"'674dcde3b00b977d048c9356'\"]\n",
      "Valid docs:  {\"'674dcddfb00b977d048c9350'\", \"'674dcd9eb00b977d048c9304'\", \"'674dcd9fb00b977d048c9305'\"}\n",
      "Invalid docs pool:  [\"'674dcd9fb00b977d048c9306'\", \"'674dce98b00b977d048c93dc'\", \"'674dcdccb00b977d048c932a'\", \"'674dcdb4b00b977d048c931a'\", \"'674dce23b00b977d048c93b5'\", \"'674dce19b00b977d048c93a1'\", \"'674dcddfb00b977d048c934f'\", \"'674dcd9db00b977d048c9300'\", \"'674dcde3b00b977d048c9357'\", \"'674dcdb4b00b977d048c931b'\", \"'674dce0fb00b977d048c9395'\", \"'674dce8db00b977d048c93c7'\", \"'674dcdd3b00b977d048c9337'\", \"'674dcdccb00b977d048c932b'\", \"'674dcd9cb00b977d048c92ff'\", \"'674dcde4b00b977d048c9358'\", \"'674dce93b00b977d048c93d2'\", \"'674dce1ab00b977d048c93a4'\", \"'674dce93b00b977d048c93d3'\", \"'674dcdd3b00b977d048c9338'\", \"'674dcde1b00b977d048c9352'\", \"'674dce8eb00b977d048c93ca'\", \"'674dce25b00b977d048c93b9'\", \"'674dcdb5b00b977d048c931d'\", \"'674dce10b00b977d048c9397'\", \"'674dce0cb00b977d048c938f'\", \"'674dce18b00b977d048c939f'\", \"'674dcddeb00b977d048c934d'\", \"'674dcde3b00b977d048c9356'\"]\n",
      "Valid docs:  {\"'674dcddfb00b977d048c9350'\", \"'674dcd9eb00b977d048c9304'\", \"'674dcd9fb00b977d048c9305'\"}\n",
      "Invalid docs pool:  [\"'674dcd9fb00b977d048c9306'\", \"'674dce98b00b977d048c93dc'\", \"'674dcdccb00b977d048c932a'\", \"'674dcdb4b00b977d048c931a'\", \"'674dce23b00b977d048c93b5'\", \"'674dce19b00b977d048c93a1'\", \"'674dcddfb00b977d048c934f'\", \"'674dcd9db00b977d048c9300'\", \"'674dcde3b00b977d048c9357'\", \"'674dcdb4b00b977d048c931b'\", \"'674dce0fb00b977d048c9395'\", \"'674dce8db00b977d048c93c7'\", \"'674dcdd3b00b977d048c9337'\", \"'674dcdccb00b977d048c932b'\", \"'674dcd9cb00b977d048c92ff'\", \"'674dcde4b00b977d048c9358'\", \"'674dce93b00b977d048c93d2'\", \"'674dce1ab00b977d048c93a4'\", \"'674dce93b00b977d048c93d3'\", \"'674dcdd3b00b977d048c9338'\", \"'674dcde1b00b977d048c9352'\", \"'674dce8eb00b977d048c93ca'\", \"'674dce25b00b977d048c93b9'\", \"'674dcdb5b00b977d048c931d'\", \"'674dce10b00b977d048c9397'\", \"'674dce0cb00b977d048c938f'\", \"'674dce18b00b977d048c939f'\", \"'674dcddeb00b977d048c934d'\", \"'674dcde3b00b977d048c9356'\"]\n",
      "Valid docs:  {\"'674dcdccb00b977d048c932b'\", \"'674dce19b00b977d048c93a1'\", \"'674dcd9fb00b977d048c9306'\", \"'674dcdccb00b977d048c932a'\"}\n",
      "Invalid docs pool:  [\"'674dce98b00b977d048c93dc'\", \"'674dcdb4b00b977d048c931a'\", \"'674dce23b00b977d048c93b5'\", \"'674dcd9fb00b977d048c9305'\", \"'674dcddfb00b977d048c934f'\", \"'674dcd9db00b977d048c9300'\", \"'674dcddfb00b977d048c9350'\", \"'674dcde3b00b977d048c9357'\", \"'674dcdb4b00b977d048c931b'\", \"'674dce0fb00b977d048c9395'\", \"'674dce8db00b977d048c93c7'\", \"'674dcdd3b00b977d048c9337'\", \"'674dcd9cb00b977d048c92ff'\", \"'674dcde4b00b977d048c9358'\", \"'674dcd9eb00b977d048c9304'\", \"'674dce93b00b977d048c93d2'\", \"'674dce1ab00b977d048c93a4'\", \"'674dce93b00b977d048c93d3'\", \"'674dcdd3b00b977d048c9338'\", \"'674dcde1b00b977d048c9352'\", \"'674dce8eb00b977d048c93ca'\", \"'674dce25b00b977d048c93b9'\", \"'674dcdb5b00b977d048c931d'\", \"'674dce10b00b977d048c9397'\", \"'674dce0cb00b977d048c938f'\", \"'674dce18b00b977d048c939f'\", \"'674dcddeb00b977d048c934d'\", \"'674dcde3b00b977d048c9356'\"]\n",
      "Valid docs:  {\"'674dcdccb00b977d048c932b'\", \"'674dce19b00b977d048c93a1'\", \"'674dcd9fb00b977d048c9306'\", \"'674dcdccb00b977d048c932a'\"}\n",
      "Invalid docs pool:  [\"'674dce98b00b977d048c93dc'\", \"'674dcdb4b00b977d048c931a'\", \"'674dce23b00b977d048c93b5'\", \"'674dcd9fb00b977d048c9305'\", \"'674dcddfb00b977d048c934f'\", \"'674dcd9db00b977d048c9300'\", \"'674dcddfb00b977d048c9350'\", \"'674dcde3b00b977d048c9357'\", \"'674dcdb4b00b977d048c931b'\", \"'674dce0fb00b977d048c9395'\", \"'674dce8db00b977d048c93c7'\", \"'674dcdd3b00b977d048c9337'\", \"'674dcd9cb00b977d048c92ff'\", \"'674dcde4b00b977d048c9358'\", \"'674dcd9eb00b977d048c9304'\", \"'674dce93b00b977d048c93d2'\", \"'674dce1ab00b977d048c93a4'\", \"'674dce93b00b977d048c93d3'\", \"'674dcdd3b00b977d048c9338'\", \"'674dcde1b00b977d048c9352'\", \"'674dce8eb00b977d048c93ca'\", \"'674dce25b00b977d048c93b9'\", \"'674dcdb5b00b977d048c931d'\", \"'674dce10b00b977d048c9397'\", \"'674dce0cb00b977d048c938f'\", \"'674dce18b00b977d048c939f'\", \"'674dcddeb00b977d048c934d'\", \"'674dcde3b00b977d048c9356'\"]\n",
      "Valid docs:  {\"'674dcdccb00b977d048c932b'\", \"'674dce19b00b977d048c93a1'\", \"'674dcd9fb00b977d048c9306'\", \"'674dcdccb00b977d048c932a'\"}\n",
      "Invalid docs pool:  [\"'674dce98b00b977d048c93dc'\", \"'674dcdb4b00b977d048c931a'\", \"'674dce23b00b977d048c93b5'\", \"'674dcd9fb00b977d048c9305'\", \"'674dcddfb00b977d048c934f'\", \"'674dcd9db00b977d048c9300'\", \"'674dcddfb00b977d048c9350'\", \"'674dcde3b00b977d048c9357'\", \"'674dcdb4b00b977d048c931b'\", \"'674dce0fb00b977d048c9395'\", \"'674dce8db00b977d048c93c7'\", \"'674dcdd3b00b977d048c9337'\", \"'674dcd9cb00b977d048c92ff'\", \"'674dcde4b00b977d048c9358'\", \"'674dcd9eb00b977d048c9304'\", \"'674dce93b00b977d048c93d2'\", \"'674dce1ab00b977d048c93a4'\", \"'674dce93b00b977d048c93d3'\", \"'674dcdd3b00b977d048c9338'\", \"'674dcde1b00b977d048c9352'\", \"'674dce8eb00b977d048c93ca'\", \"'674dce25b00b977d048c93b9'\", \"'674dcdb5b00b977d048c931d'\", \"'674dce10b00b977d048c9397'\", \"'674dce0cb00b977d048c938f'\", \"'674dce18b00b977d048c939f'\", \"'674dcddeb00b977d048c934d'\", \"'674dcde3b00b977d048c9356'\"]\n",
      "Valid docs:  {\"'674dcdccb00b977d048c932b'\", \"'674dce19b00b977d048c93a1'\", \"'674dcd9fb00b977d048c9306'\", \"'674dcdccb00b977d048c932a'\"}\n",
      "Invalid docs pool:  [\"'674dce98b00b977d048c93dc'\", \"'674dcdb4b00b977d048c931a'\", \"'674dce23b00b977d048c93b5'\", \"'674dcd9fb00b977d048c9305'\", \"'674dcddfb00b977d048c934f'\", \"'674dcd9db00b977d048c9300'\", \"'674dcddfb00b977d048c9350'\", \"'674dcde3b00b977d048c9357'\", \"'674dcdb4b00b977d048c931b'\", \"'674dce0fb00b977d048c9395'\", \"'674dce8db00b977d048c93c7'\", \"'674dcdd3b00b977d048c9337'\", \"'674dcd9cb00b977d048c92ff'\", \"'674dcde4b00b977d048c9358'\", \"'674dcd9eb00b977d048c9304'\", \"'674dce93b00b977d048c93d2'\", \"'674dce1ab00b977d048c93a4'\", \"'674dce93b00b977d048c93d3'\", \"'674dcdd3b00b977d048c9338'\", \"'674dcde1b00b977d048c9352'\", \"'674dce8eb00b977d048c93ca'\", \"'674dce25b00b977d048c93b9'\", \"'674dcdb5b00b977d048c931d'\", \"'674dce10b00b977d048c9397'\", \"'674dce0cb00b977d048c938f'\", \"'674dce18b00b977d048c939f'\", \"'674dcddeb00b977d048c934d'\", \"'674dcde3b00b977d048c9356'\"]\n",
      "Valid docs:  {\"'674dcdccb00b977d048c932b'\", \"'674dce19b00b977d048c93a1'\", \"'674dcd9fb00b977d048c9306'\", \"'674dcdccb00b977d048c932a'\"}\n",
      "Invalid docs pool:  [\"'674dce98b00b977d048c93dc'\", \"'674dcdb4b00b977d048c931a'\", \"'674dce23b00b977d048c93b5'\", \"'674dcd9fb00b977d048c9305'\", \"'674dcddfb00b977d048c934f'\", \"'674dcd9db00b977d048c9300'\", \"'674dcddfb00b977d048c9350'\", \"'674dcde3b00b977d048c9357'\", \"'674dcdb4b00b977d048c931b'\", \"'674dce0fb00b977d048c9395'\", \"'674dce8db00b977d048c93c7'\", \"'674dcdd3b00b977d048c9337'\", \"'674dcd9cb00b977d048c92ff'\", \"'674dcde4b00b977d048c9358'\", \"'674dcd9eb00b977d048c9304'\", \"'674dce93b00b977d048c93d2'\", \"'674dce1ab00b977d048c93a4'\", \"'674dce93b00b977d048c93d3'\", \"'674dcdd3b00b977d048c9338'\", \"'674dcde1b00b977d048c9352'\", \"'674dce8eb00b977d048c93ca'\", \"'674dce25b00b977d048c93b9'\", \"'674dcdb5b00b977d048c931d'\", \"'674dce10b00b977d048c9397'\", \"'674dce0cb00b977d048c938f'\", \"'674dce18b00b977d048c939f'\", \"'674dcddeb00b977d048c934d'\", \"'674dcde3b00b977d048c9356'\"]\n",
      "Valid docs:  {\"'674dcdb5b00b977d048c931d'\", \"'674dce18b00b977d048c939f'\"}\n",
      "Invalid docs pool:  [\"'674dcd9fb00b977d048c9306'\", \"'674dce98b00b977d048c93dc'\", \"'674dcdccb00b977d048c932a'\", \"'674dcdb4b00b977d048c931a'\", \"'674dce23b00b977d048c93b5'\", \"'674dce19b00b977d048c93a1'\", \"'674dcd9fb00b977d048c9305'\", \"'674dcddfb00b977d048c934f'\", \"'674dcd9db00b977d048c9300'\", \"'674dcddfb00b977d048c9350'\", \"'674dcde3b00b977d048c9357'\", \"'674dcdb4b00b977d048c931b'\", \"'674dce0fb00b977d048c9395'\", \"'674dce8db00b977d048c93c7'\", \"'674dcdd3b00b977d048c9337'\", \"'674dcdccb00b977d048c932b'\", \"'674dcd9cb00b977d048c92ff'\", \"'674dcde4b00b977d048c9358'\", \"'674dcd9eb00b977d048c9304'\", \"'674dce93b00b977d048c93d2'\", \"'674dce1ab00b977d048c93a4'\", \"'674dce93b00b977d048c93d3'\", \"'674dcdd3b00b977d048c9338'\", \"'674dcde1b00b977d048c9352'\", \"'674dce8eb00b977d048c93ca'\", \"'674dce25b00b977d048c93b9'\", \"'674dce10b00b977d048c9397'\", \"'674dce0cb00b977d048c938f'\", \"'674dcddeb00b977d048c934d'\", \"'674dcde3b00b977d048c9356'\"]\n",
      "Valid docs:  {\"'674dcdb5b00b977d048c931d'\", \"'674dce18b00b977d048c939f'\"}\n",
      "Invalid docs pool:  [\"'674dcd9fb00b977d048c9306'\", \"'674dce98b00b977d048c93dc'\", \"'674dcdccb00b977d048c932a'\", \"'674dcdb4b00b977d048c931a'\", \"'674dce23b00b977d048c93b5'\", \"'674dce19b00b977d048c93a1'\", \"'674dcd9fb00b977d048c9305'\", \"'674dcddfb00b977d048c934f'\", \"'674dcd9db00b977d048c9300'\", \"'674dcddfb00b977d048c9350'\", \"'674dcde3b00b977d048c9357'\", \"'674dcdb4b00b977d048c931b'\", \"'674dce0fb00b977d048c9395'\", \"'674dce8db00b977d048c93c7'\", \"'674dcdd3b00b977d048c9337'\", \"'674dcdccb00b977d048c932b'\", \"'674dcd9cb00b977d048c92ff'\", \"'674dcde4b00b977d048c9358'\", \"'674dcd9eb00b977d048c9304'\", \"'674dce93b00b977d048c93d2'\", \"'674dce1ab00b977d048c93a4'\", \"'674dce93b00b977d048c93d3'\", \"'674dcdd3b00b977d048c9338'\", \"'674dcde1b00b977d048c9352'\", \"'674dce8eb00b977d048c93ca'\", \"'674dce25b00b977d048c93b9'\", \"'674dce10b00b977d048c9397'\", \"'674dce0cb00b977d048c938f'\", \"'674dcddeb00b977d048c934d'\", \"'674dcde3b00b977d048c9356'\"]\n",
      "Valid docs:  {\"'674dcdb5b00b977d048c931d'\", \"'674dce18b00b977d048c939f'\"}\n",
      "Invalid docs pool:  [\"'674dcd9fb00b977d048c9306'\", \"'674dce98b00b977d048c93dc'\", \"'674dcdccb00b977d048c932a'\", \"'674dcdb4b00b977d048c931a'\", \"'674dce23b00b977d048c93b5'\", \"'674dce19b00b977d048c93a1'\", \"'674dcd9fb00b977d048c9305'\", \"'674dcddfb00b977d048c934f'\", \"'674dcd9db00b977d048c9300'\", \"'674dcddfb00b977d048c9350'\", \"'674dcde3b00b977d048c9357'\", \"'674dcdb4b00b977d048c931b'\", \"'674dce0fb00b977d048c9395'\", \"'674dce8db00b977d048c93c7'\", \"'674dcdd3b00b977d048c9337'\", \"'674dcdccb00b977d048c932b'\", \"'674dcd9cb00b977d048c92ff'\", \"'674dcde4b00b977d048c9358'\", \"'674dcd9eb00b977d048c9304'\", \"'674dce93b00b977d048c93d2'\", \"'674dce1ab00b977d048c93a4'\", \"'674dce93b00b977d048c93d3'\", \"'674dcdd3b00b977d048c9338'\", \"'674dcde1b00b977d048c9352'\", \"'674dce8eb00b977d048c93ca'\", \"'674dce25b00b977d048c93b9'\", \"'674dce10b00b977d048c9397'\", \"'674dce0cb00b977d048c938f'\", \"'674dcddeb00b977d048c934d'\", \"'674dcde3b00b977d048c9356'\"]\n",
      "Valid docs:  {\"'674dcdb5b00b977d048c931d'\", \"'674dce18b00b977d048c939f'\"}\n",
      "Invalid docs pool:  [\"'674dcd9fb00b977d048c9306'\", \"'674dce98b00b977d048c93dc'\", \"'674dcdccb00b977d048c932a'\", \"'674dcdb4b00b977d048c931a'\", \"'674dce23b00b977d048c93b5'\", \"'674dce19b00b977d048c93a1'\", \"'674dcd9fb00b977d048c9305'\", \"'674dcddfb00b977d048c934f'\", \"'674dcd9db00b977d048c9300'\", \"'674dcddfb00b977d048c9350'\", \"'674dcde3b00b977d048c9357'\", \"'674dcdb4b00b977d048c931b'\", \"'674dce0fb00b977d048c9395'\", \"'674dce8db00b977d048c93c7'\", \"'674dcdd3b00b977d048c9337'\", \"'674dcdccb00b977d048c932b'\", \"'674dcd9cb00b977d048c92ff'\", \"'674dcde4b00b977d048c9358'\", \"'674dcd9eb00b977d048c9304'\", \"'674dce93b00b977d048c93d2'\", \"'674dce1ab00b977d048c93a4'\", \"'674dce93b00b977d048c93d3'\", \"'674dcdd3b00b977d048c9338'\", \"'674dcde1b00b977d048c9352'\", \"'674dce8eb00b977d048c93ca'\", \"'674dce25b00b977d048c93b9'\", \"'674dce10b00b977d048c9397'\", \"'674dce0cb00b977d048c938f'\", \"'674dcddeb00b977d048c934d'\", \"'674dcde3b00b977d048c9356'\"]\n",
      "Valid docs:  {\"'674dcdb5b00b977d048c931d'\", \"'674dce18b00b977d048c939f'\"}\n",
      "Invalid docs pool:  [\"'674dcd9fb00b977d048c9306'\", \"'674dce98b00b977d048c93dc'\", \"'674dcdccb00b977d048c932a'\", \"'674dcdb4b00b977d048c931a'\", \"'674dce23b00b977d048c93b5'\", \"'674dce19b00b977d048c93a1'\", \"'674dcd9fb00b977d048c9305'\", \"'674dcddfb00b977d048c934f'\", \"'674dcd9db00b977d048c9300'\", \"'674dcddfb00b977d048c9350'\", \"'674dcde3b00b977d048c9357'\", \"'674dcdb4b00b977d048c931b'\", \"'674dce0fb00b977d048c9395'\", \"'674dce8db00b977d048c93c7'\", \"'674dcdd3b00b977d048c9337'\", \"'674dcdccb00b977d048c932b'\", \"'674dcd9cb00b977d048c92ff'\", \"'674dcde4b00b977d048c9358'\", \"'674dcd9eb00b977d048c9304'\", \"'674dce93b00b977d048c93d2'\", \"'674dce1ab00b977d048c93a4'\", \"'674dce93b00b977d048c93d3'\", \"'674dcdd3b00b977d048c9338'\", \"'674dcde1b00b977d048c9352'\", \"'674dce8eb00b977d048c93ca'\", \"'674dce25b00b977d048c93b9'\", \"'674dce10b00b977d048c9397'\", \"'674dce0cb00b977d048c938f'\", \"'674dcddeb00b977d048c934d'\", \"'674dcde3b00b977d048c9356'\"]\n"
     ]
    },
    {
     "data": {
      "text/plain": [
       "'emath_qns_eval_data_updated.csv'"
      ]
     },
     "execution_count": 16,
     "metadata": {},
     "output_type": "execute_result"
    }
   ],
   "source": [
    "# Clean and populate the 'invalid_documents' column with random docIDs\n",
    "for index, row in df.iterrows():\n",
    "    # Strip whitespace and create a set of valid document IDs\n",
    "    valid_docs = set(doc.strip() for doc in row['valid_documents'].split(';') if doc.strip())\n",
    "    print(\"Valid docs: \", valid_docs)\n",
    "    \n",
    "    # Create a pool of invalid document IDs, excluding the valid ones\n",
    "    invalid_docs_pool = list(all_doc_ids - valid_docs)  # Exclude valid documents from the pool\n",
    "    print(\"Invalid docs pool: \", invalid_docs_pool)\n",
    "    \n",
    "    # Randomly select a number of invalid documents\n",
    "    if invalid_docs_pool:  # Ensure there are invalid docs to choose from\n",
    "        num_invalid_docs = random.randint(1, len(valid_docs)-1)  # Random number of invalid docs, up to the number of valid docs\n",
    "        invalid_docs = random.sample(invalid_docs_pool, num_invalid_docs)\n",
    "        df.at[index, 'invalid_documents'] = '; '.join(invalid_docs)\n",
    "    else:\n",
    "        # If no invalid docs are available, leave the column empty\n",
    "        df.at[index, 'invalid_documents'] = ''\n",
    "\n",
    "\n",
    "# Save the updated dataframe to a new CSV file\n",
    "output_path = 'emath_qns_eval_data_updated.csv'\n",
    "df.to_csv(output_path, index=False)\n",
    "\n",
    "output_path"
   ]
  },
  {
   "cell_type": "markdown",
   "metadata": {},
   "source": [
    "# Verify that docIDs in invalid_documents are not present in valid_documents"
   ]
  },
  {
   "cell_type": "code",
   "execution_count": 20,
   "metadata": {},
   "outputs": [
    {
     "name": "stdout",
     "output_type": "stream",
     "text": [
      "Validation passed: No overlapping docIDs between valid_documents and invalid_documents.\n"
     ]
    }
   ],
   "source": [
    "df = pd.read_csv('emath_qns_eval_data_updated.csv')\n",
    "\n",
    "# Validate that \"invalid_documents\" do not contain any docIDs from \"valid_documents\"\n",
    "validation_errors = []\n",
    "\n",
    "for index, row in df.iterrows():\n",
    "    valid_docs = set(doc.strip() for doc in row['valid_documents'].split(';') if doc.strip())\n",
    "    invalid_docs = set(doc.strip() for doc in row['invalid_documents'].split(';') if doc.strip())\n",
    "    \n",
    "    # Check if there is any overlap between valid and invalid documents\n",
    "    if valid_docs & invalid_docs:  # Intersection should be empty\n",
    "        validation_errors.append((index, valid_docs & invalid_docs))  # Record row index and overlapping docIDs\n",
    "\n",
    "# Display validation results\n",
    "if validation_errors:\n",
    "    print(f\"Validation errors found in {len(validation_errors)} rows:\")\n",
    "    for error in validation_errors:\n",
    "        print(f\"Row {error[0]} has overlapping docIDs: {error[1]}\")\n",
    "else:\n",
    "    print(\"Validation passed: No overlapping docIDs between valid_documents and invalid_documents.\")"
   ]
  },
  {
   "cell_type": "code",
   "execution_count": null,
   "metadata": {},
   "outputs": [],
   "source": []
  }
 ],
 "metadata": {
  "kernelspec": {
   "display_name": ".venv",
   "language": "python",
   "name": "python3"
  },
  "language_info": {
   "codemirror_mode": {
    "name": "ipython",
    "version": 3
   },
   "file_extension": ".py",
   "mimetype": "text/x-python",
   "name": "python",
   "nbconvert_exporter": "python",
   "pygments_lexer": "ipython3",
   "version": "3.10.5"
  }
 },
 "nbformat": 4,
 "nbformat_minor": 2
}
