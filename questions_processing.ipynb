{
 "cells": [
  {
   "cell_type": "markdown",
   "metadata": {},
   "source": [
    "# Get JSON of an exam paper"
   ]
  },
  {
   "cell_type": "code",
   "execution_count": 85,
   "metadata": {},
   "outputs": [
    {
     "name": "stderr",
     "output_type": "stream",
     "text": [
      "Ignoring wrong pointing object 11 0 (offset 0)\n",
      "Ignoring wrong pointing object 13 0 (offset 0)\n",
      "Ignoring wrong pointing object 85 0 (offset 0)\n"
     ]
    }
   ],
   "source": [
    "import os\n",
    "import openai\n",
    "from langchain.chat_models import ChatOpenAI\n",
    "from langchain.prompts import PromptTemplate\n",
    "from langchain.chains import LLMChain\n",
    "from langchain.document_loaders import PyPDFLoader\n",
    "import re\n",
    "import json\n",
    "\n",
    "# Set your OpenAI API key\n",
    "openai.api_key = os.environ.get('OPENAI_API_KEY')\n",
    "\n",
    "# Load the PDF file\n",
    "pdf_path = \"exam_papers/bpghs_emath_prelim_paper1.pdf\" \n",
    "\n",
    "loader = PyPDFLoader(pdf_path)\n",
    "documents = loader.load()"
   ]
  },
  {
   "cell_type": "code",
   "execution_count": 86,
   "metadata": {},
   "outputs": [],
   "source": [
    "# Function to extract JSON data from the response\n",
    "def extract_json_from_response(response):\n",
    "    try:\n",
    "        data = json.loads(response)\n",
    "        return data\n",
    "    except json.JSONDecodeError:\n",
    "        # Try to extract JSON from the response using regex\n",
    "        pattern = r'\\[.*\\]'\n",
    "        match = re.search(pattern, response, re.DOTALL)\n",
    "        if match:\n",
    "            json_str = match.group(0)\n",
    "            try:\n",
    "                data = json.loads(json_str)\n",
    "                return data\n",
    "            except json.JSONDecodeError as e:\n",
    "                print(\"Error parsing JSON:\", e)\n",
    "                return None\n",
    "        else:\n",
    "            print(\"No JSON data found in the response.\")\n",
    "            return None\n"
   ]
  },
  {
   "cell_type": "markdown",
   "metadata": {},
   "source": [
    "## Get JSON for each question"
   ]
  },
  {
   "cell_type": "code",
   "execution_count": 87,
   "metadata": {},
   "outputs": [],
   "source": [
    "# Set maximum pages per chunk to avoid exceeding token limits\n",
    "max_pages_per_chunk = 5\n",
    "\n",
    "chunks = []\n",
    "current_chunk = []\n",
    "current_pages = []\n",
    "for i, doc in enumerate(documents):\n",
    "    page_num = i + 1\n",
    "    current_chunk.append(f\"\\n\\n--- Page {page_num} ---\\n\\n{doc.page_content}\")\n",
    "    current_pages.append(page_num)\n",
    "    if len(current_chunk) == max_pages_per_chunk or i == len(documents) - 1:\n",
    "        text_content = ''.join(current_chunk)\n",
    "        chunks.append((text_content, current_pages.copy()))\n",
    "        current_chunk = []\n",
    "        current_pages = []"
   ]
  },
  {
   "cell_type": "code",
   "execution_count": 88,
   "metadata": {},
   "outputs": [],
   "source": [
    "# Define the prompt template\n",
    "question_prompt_template =  \"\"\"\n",
    "    You are provided with text extracted from a PDF exam paper. The text may include multiple math questions along with diagrams.\n",
    "\n",
    "    Please identify each question, determine the question_number, which is an integer representing the full question (eg: 1, 2, 3), along with the question_part, a string representing the question with any sub-parts that it belongs to (eg: \"1\", \"2a\", \"2b\", \"2ai\", \"2aii\", \"3iv\", \"3v\" etc.).\n",
    "    Please also determine its page boundaries (page_start and page_end), and categorize it into one of the following categories:\n",
    "        Quadratic Functions, Equations and Inequalities\n",
    "        Surds\n",
    "        Polynomials, cubic equations and partial fractions\n",
    "        Binomial theorem and its application\n",
    "        Exponential and logarithmic functions\n",
    "        Coordinate geometry\n",
    "        Linear law\n",
    "        Trigonometric functions and equations\n",
    "        Trigonometric identities and formulae\n",
    "        Gradients, derivatives and differentiation techniques\n",
    "        Applications of differentiation\n",
    "        Differentiation of trigonometric, logarithmic, and exponential functions and their applications\n",
    "        Integration\n",
    "        Applications of integration\n",
    "        Kinematics\n",
    "        Proofs in plane geometry\n",
    "\n",
    "    Output your result as a list of JSON objects enclosed in a code block like this:\n",
    "\n",
    "    ```json\n",
    "    [\"question\": \"...\", \"question_number\": \"...\", \"question_part\": \"...\", \"page_start\": ..., \"page_end\": ..., \"category\": \"...\"]\n",
    "    ```\n",
    "    Please ensure the output is valid JSON.\n",
    "\n",
    "    Here is the text content:\n",
    "    \n",
    "    {text_content}\n",
    "    \"\"\"\n",
    "    "
   ]
  },
  {
   "cell_type": "code",
   "execution_count": 89,
   "metadata": {},
   "outputs": [],
   "source": [
    "prompt = PromptTemplate(\n",
    "    input_variables=[\"text_content\"],\n",
    "    template=question_prompt_template,\n",
    ")\n",
    "\n",
    "llm = ChatOpenAI(temperature=0, model_name='gpt-4o', api_key=openai.api_key)\n",
    "\n",
    "questions_chain = LLMChain(llm=llm, prompt=prompt)"
   ]
  },
  {
   "cell_type": "code",
   "execution_count": 90,
   "metadata": {},
   "outputs": [
    {
     "name": "stdout",
     "output_type": "stream",
     "text": [
      "Processing chunk 1/5, pages 1-5\n",
      "Processing chunk 2/5, pages 6-10\n",
      "Processing chunk 3/5, pages 11-15\n",
      "Processing chunk 4/5, pages 16-20\n",
      "Processing chunk 5/5, pages 21-22\n"
     ]
    }
   ],
   "source": [
    "all_data = []\n",
    "\n",
    "for idx, (text_content, pages) in enumerate(chunks):\n",
    "    print(f\"Processing chunk {idx+1}/{len(chunks)}, pages {pages[0]}-{pages[-1]}\")\n",
    "\n",
    "    response = questions_chain.run(text_content=text_content)\n",
    "\n",
    "    data = extract_json_from_response(response)\n",
    "\n",
    "    if data is not None:\n",
    "        all_data.extend(data)\n",
    "    else:\n",
    "        print(f\"Failed to extract data for chunk {idx+1}\")"
   ]
  },
  {
   "cell_type": "code",
   "execution_count": 91,
   "metadata": {},
   "outputs": [
    {
     "name": "stdout",
     "output_type": "stream",
     "text": [
      "[{'question': 'Calculate 332.13 81.233.23.524××, giving your answer correct to 4 significant figures.', 'question_number': '1', 'question_part': '1', 'page_start': 3, 'page_end': 3, 'category': 'Surds'}, {'question': 'At a warehouse sale, all prices are reduced by 15%. The price of a set of ear pods during the sale is $221. (i) Find its original price.', 'question_number': '2', 'question_part': '2i', 'page_start': 3, 'page_end': 3, 'category': 'Exponential and logarithmic functions'}, {'question': 'If the salesman still earns a profit of 10.5% during the sale, find the percentage profit he earns from selling the pair of ear pods if it is not on sale.', 'question_number': '2', 'question_part': '2ii', 'page_start': 3, 'page_end': 3, 'category': 'Exponential and logarithmic functions'}, {'question': 'Ethan measures the amount of rain, in millimetres (mm), each day for 31 days. The bar chart shows his results. (a) Write down the median amount of rain.', 'question_number': '3', 'question_part': '3a', 'page_start': 4, 'page_end': 4, 'category': 'Statistics'}, {'question': 'Find the mean amount of rain per day.', 'question_number': '3', 'question_part': '3b', 'page_start': 4, 'page_end': 4, 'category': 'Statistics'}, {'question': 'Ethan picks one of these days at random. Find the probability that, on that day, the amount of rain was 3 mm or more.', 'question_number': '3', 'question_part': '3c', 'page_start': 4, 'page_end': 4, 'category': 'Statistics'}, {'question': 'These are the first four terms in a sequence. 9 5 1 -3 Find an expression, in term of n, for the nth term of the sequence.', 'question_number': '4', 'question_part': '4a', 'page_start': 5, 'page_end': 5, 'category': 'Polynomials, cubic equations and partial fractions'}, {'question': 'The nth term of another sequence is given by 3443nnTn+=+. Determine if it is possible to have a term in the sequence to be greater than 1. Explain your answer.', 'question_number': '4', 'question_part': '4b', 'page_start': 5, 'page_end': 5, 'category': 'Polynomials, cubic equations and partial fractions'}, {'question': 'A drawer contains 40 balls. 15 balls are black, 5 balls are grey and 20 balls are white. Samuel chooses one ball from the drawer at random. (a) Find the probability that the ball is not black. Samuel adds a few more grey balls. The probability of choosing a grey ball is now 27. (b) Find the number of grey balls he added.', 'question_number': '5', 'question_part': '5a', 'page_start': 6, 'page_end': 6, 'category': 'Probability'}, {'question': 'Solve the simultaneous equations. 7x + 2y = 28, 3x - y = 23', 'question_number': '6', 'question_part': '6', 'page_start': 7, 'page_end': 7, 'category': 'Linear Equations'}, {'question': 'The diagram shows part of a polygon A and part of polygon B. A is a regular polygon with n sides. B is a regular hexagon. Find the value of n.', 'question_number': '7', 'question_part': '7', 'page_start': 8, 'page_end': 8, 'category': 'Geometry'}, {'question': 'Mary needs to pack 210 oranges, 252 apples and 294 pears into identical fruit baskets. (i) What is the largest possible number of fruit baskets that can be packed? (ii) State the number of each fruit in a fruit basket.', 'question_number': '8', 'question_part': '8i', 'page_start': 9, 'page_end': 9, 'category': 'Number Theory'}, {'question': 'The diagram shows a sector OPR with centre O. ORQ is a straight line. Angle POQ = 0.6 radians. OP = 5 cm and RQ = 7 cm. (i) Calculate the perimeter of the shaded region PQR. (ii) Calculate the area of the shaded region PQR.', 'question_number': '9', 'question_part': '9i', 'page_start': 10, 'page_end': 10, 'category': 'Geometry'}, {'question': 'A, B and C are three ports. (a) Show that angle ABC = 107.2o correct to 1 decimal place. (b) The bearing of B from A is 305o. Find the bearing of C from A.', 'question_number': '10', 'question_part': '10a', 'page_start': 11, 'page_end': 11, 'category': 'Trigonometric functions and equations'}, {'question': 'Expand and simplify (2x - 3)^2.', 'question_number': '11', 'question_part': '11', 'page_start': 12, 'page_end': 12, 'category': 'Binomial theorem and its application'}, {'question': 'The length of one of the diagonals of a rhombus of side 13 cm is 24 cm. Find the area of the rhombus.', 'question_number': '12', 'question_part': '12', 'page_start': 12, 'page_end': 12, 'category': 'Coordinate geometry'}, {'question': 'p varies inversely as the square root of q. When q = 9, p = 12. Find p when q = 16.', 'question_number': '13', 'question_part': '13', 'page_start': 13, 'page_end': 13, 'category': 'Exponential and logarithmic functions'}, {'question': 'Andrea and Beatrice each have a savings account. The ratio of Andrea’s savings to Beatrice’s savings is 2 : 3. They each spend $50 from their savings. Andrea then gives Beatrice $20 from her savings. The new ratio of Andrea’s savings to Beatrice’s savings is 5 : 9. Find the amount of money Andrea now has in her account.', 'question_number': '14', 'question_part': '14', 'page_start': 13, 'page_end': 13, 'category': 'Linear law'}, {'question': 'Solve the inequalities 2x + 6 <= 11 < 24 - 3x.', 'question_number': '15', 'question_part': '15', 'page_start': 14, 'page_end': 14, 'category': 'Quadratic Functions, Equations and Inequalities'}, {'question': 'In the diagram, O is the centre of two concentric circles. A and B lie on the circumference of the smaller circle. C and D lie on the circumference of the larger circle. AD and BC intersect at O. Prove that (a) ΔAOC and ΔBOD are congruent (b) ΔADB and ΔBCA are congruent.', 'question_number': '16', 'question_part': '16a', 'page_start': 14, 'page_end': 14, 'category': 'Proofs in plane geometry'}, {'question': 'PQRS is a trapezium where P is the point (-3, 2), Q is the point (5, 8) and R is the point (3, 2). PQ is parallel to RS. (a) Find the equation of the line RS. (b)(i) Find the length of PQ. (ii) Hence find the perpendicular distance from R to PQ.', 'question_number': '17', 'question_part': '17a', 'page_start': 15, 'page_end': 15, 'category': 'Coordinate geometry'}, {'question': 'In the diagram, points A, B and C lies on a straight line. BC = 12 cm, DC = 5 cm and angle BCD = 90o. Find the value of cos \\uf0d0ABD.', 'question_number': '18', 'question_part': '18', 'page_start': 16, 'page_end': 16, 'category': 'Trigonometric functions and equations'}, {'question': 'Write as a single fraction in its simplest form 21291 1 3xx−−−.', 'question_number': '19', 'question_part': '19', 'page_start': 16, 'page_end': 16, 'category': 'Polynomials, cubic equations and partial fractions'}, {'question': 'A, D, B and C lie on a circle, centre O. AP is a tangent to the circle at A and BP is a tangent to the circle at B. Angle AOB = 142o and angle DAP = 42o. (a) Find the value of (i) angle ACB, (ii) angle ADB, (b) Is OB parallel to AD? Explain.', 'question_number': '20', 'question_part': '20', 'page_start': 17, 'page_end': 17, 'category': 'Proofs in plane geometry'}, {'question': 'The admission tickets to the Singapore Zoo are $50 for an adult, $36 for a child and $20 for a senior citizen. On a particular Tuesday, there were 212 adults, 251 children and 15 senior citizens who visited the Singapore Zoo and on a particular Wednesday, there were 231 adults, 266 children and 12 senior citizens who visited the Singapore Zoo. The number of visitors on the particular Tuesday and Wednesday can be represented by the matrix V = 212 251 15231 266 12. (i) Write a 31\\uf0b4 matrix, P, to represent the price of the admission tickets. (ii) Find the matrix T = VP. (iii) Explain what does each of the elements represents. (iv) Find the total amount collected from the sales of the tickets for the 2 days.', 'question_number': '21', 'question_part': '21', 'page_start': 18, 'page_end': 18, 'category': 'Linear law'}, {'question': 'Rearrange this equation to make x the subject. 23 5abxx=−', 'question_number': '22', 'question_part': '22', 'page_start': 19, 'page_end': 19, 'category': 'Exponential and logarithmic functions'}, {'question': 'Given that 2321 6 8x\\uf0b4=, find the value of x.', 'question_number': '23', 'question_part': '23', 'page_start': 19, 'page_end': 19, 'category': 'Exponential and logarithmic functions'}, {'question': 'The angle of elevation of the base of a lighthouse, L, from two fishing boat P and Q are 20o and 35o respectively. Given that the fishing boat P is 250 m from the lighthouse, find the distance between the two fishing boats.', 'question_number': '24', 'question_part': '24', 'page_start': 20, 'page_end': 20, 'category': 'Trigonometric functions and equations'}, {'question': '100 newborn babies are weighed and their masses are recorded in the table below. Mass (x kg) Frequency 2.8 < x ≤ 3.0: 6, 3.0 < x ≤ 3.2: 21, 3.2 < x ≤ 3.4: 47, 3.4 < x ≤ 3.6: 22, 3.6 < x ≤ 3.8: 4. (a) Calculate an estimate for (i) the mean mass of these newborn babies, (ii) the standard deviation of the mass of these newborn babies. (b) If the weighing machine has an error of weighing an extra 0.2 kg, comment on how this error affects the standard deviation of the mass of these newborn babies.', 'question_number': '25', 'question_part': '25a', 'page_start': 21, 'page_end': 21, 'category': 'Statistics'}, {'question': '20, 1, 3, 3, 711. ξ = {−3, 1, 3, 7, 11}. A = {x: x is a rational number}. B = {x: x is an integer}. C = {x: x is a positive number}. (i) Use one of the symbols below to fill in the blank in the answer space. =, ⊆, ⊇, ∈, ∉. Answer {1, 3, 7} ………….. B. (ii) List the elements of A ∩ C. Answer A ∩ C = ………………… (iii) Write down, in set notation, in terms of A, B and/or C the set that represents rational numbers that are not integers.', 'question_number': '26', 'question_part': '26a', 'page_start': 22, 'page_end': 22, 'category': 'Set Theory'}, {'question': \"In the diagram, shade the region representing 'PQ.\", 'question_number': '26', 'question_part': '26b', 'page_start': 22, 'page_end': 22, 'category': 'Geometry'}]\n"
     ]
    }
   ],
   "source": [
    "print(all_data)"
   ]
  },
  {
   "cell_type": "code",
   "execution_count": 92,
   "metadata": {},
   "outputs": [
    {
     "name": "stdout",
     "output_type": "stream",
     "text": [
      "dict_keys(['question', 'question_number', 'question_part', 'page_start', 'page_end', 'category'])\n"
     ]
    }
   ],
   "source": [
    "print(all_data[0].keys())"
   ]
  },
  {
   "cell_type": "code",
   "execution_count": 93,
   "metadata": {},
   "outputs": [
    {
     "name": "stdout",
     "output_type": "stream",
     "text": [
      "{'Quadratic Functions, Equations and Inequalities': ['Solving simultaneous equations by substitution', 'Finding coordinates of intersection points', 'Finding maximum and minimum value of a quadratic function by completing the square', 'Sketching graph of quadratic function', 'Solving quadratic inequalities', 'Intersection of straight line and curve', 'Always positive/negative quadratic expression', 'Quadratic functions in real-world context'], 'Surds': ['Rationalising denominator of surd', 'Adding and/or subtracting surds', 'Solving equations involving surds', 'Word problems involving surds'], 'Polynomials, cubic equations and partial fractions': ['Identities', 'Identities with an unknown quotient', 'Long division/synthetic method/remainder theorem', 'Application of remainder theorem', 'Sum and difference of 2 cubes', 'Solving cubic equation', 'Factor theorem and solving a cubic equation', 'Factor theorem and sketching of cubic curve', 'Forming cubic equation/expression', 'Proper algebraic fraction with linear factors in denominator', 'Proper algebraic fraction with non-linear factor in denominator', 'Proper algebraic fraction with repeated factors in the denominator', 'Improper algebraic fraction'], 'Binomial theorem and its application': ['Finding coefficients of specific terms', 'Finding values of unknown coefficients', 'Application of factorial', 'Application of general term formula', 'Applications of binomial theorem'], 'Exponential and logarithmic functions': ['Simplifying exponential expressions', 'Solving exponential equations', 'Simplifying logarithmic expressions', 'Applications of laws of logarithms', 'Solving equations involving natural logarithms', 'Solving simultaneous equations involving logarithms', 'Application of change of base', 'Real-life applications of logarithms', 'Graphs of exponential and logarithmic functions', 'Graphical solutions involving exponential/logarithmic graphs'], 'Coordinate geometry': ['Finding equation of perpendicular bisector', 'Finding fourth vertex of parallelogram', 'Finding coordinates of unknown collinear point', 'Finding equation of circle and determining if a point lies on, is inside, or outside a circle', 'Application of tangent in circle'], 'Linear law': ['Converting from linear form to non-linear equation', 'Finding values of unknown constants when given non-linear graph', 'Application of linear law in real-world contexts'], 'Trigonometric functions and equations': ['Finding trigonometric ratios', 'Solving trigonometric equations in degree mode', 'Solving trigonometric equations in radian mode', 'Finding principal values of inverse trigonometric functions', 'Sketching trigonometric graphs', 'Finding angle in a right-angled triangle', 'Real-life modeling using trigonometric function'], 'Trigonometric identities and formulae': ['Finding trigonometric ratios', 'Solving trigonometric equations using basic trigonometric identity', 'Solving trigonometric equations using compound angle formulae', 'Proving trigonometric identities', 'Evaluating trigonometric ratios using compound angle formulae', 'Finding exact values of trigonometric ratios of specific angles', 'R-formula', 'Application of R-formula in word problems'], 'Gradients, derivatives and differentiation techniques': ['Basic differentiation', 'Product rule', 'Quotient rule', 'Finding gradient of curve at a point', 'Increasing and decreasing functions', 'Higher derivatives'], 'Applications of differentiation': ['Applications of differentiation to tangents and normals', 'Rate of change', 'Stationary point', 'Stationary value involving 3 variables', 'Problem on maxima and minima'], 'Differentiation of trigonometric, logarithmic, and exponential functions and their applications': ['Differentiation of trigonometric functions', 'Differentiation of logarithmic functions', 'Differentiation of exponential functions', 'Applications of differentiation of trigonometric functions', 'Applications of differentiation of exponential functions', 'Applications of differentiation of logarithmic functions'], 'Integration': ['Basic integration', 'Integration of trigonometric functions', 'Integration of trigonometric functions using trigonometric formulae', 'Integration of functions in the form of 1/(ax+b)', 'Integration of exponential functions', 'Integration involving partial fractions', 'Finding equation of curve', 'Integration as a reverse process of differentiation', 'Integration as a reverse process of differentiation involving multiple functions'], 'Applications of integration': ['Definite integrals involving algebraic functions', 'Definite integrals involving trigonometric functions', 'Properties of definite integrals', 'Integration as a reverse process of differentiation', 'Integration as a reverse process of differentiation involving multiple functions', 'Area under curve', 'Area above and below x-axis', 'Area bounded by curve, y-axis, and line', 'Area bounded by curve and line', 'Applications of tangent and normal to shaded area'], 'Kinematics': ['Applications of differentiation, given displacement', 'Application of differentiation and integration, given velocity', 'Application of integration, given acceleration', 'Problem involving 2 moving particles'], 'Proofs in plane geometry': ['Proof involving congruent and similar triangles', 'Midpoint theorem', 'Tangent-chord theorem']}\n"
     ]
    }
   ],
   "source": [
    "with open('amath_topics.json') as f:\n",
    "    amath_topics = json.load(f)\n",
    "    print(amath_topics)"
   ]
  },
  {
   "cell_type": "code",
   "execution_count": 94,
   "metadata": {},
   "outputs": [],
   "source": [
    "# Define a prompt template for assigning question types\n",
    "question_type_prompt_template = '''\n",
    "Given the following question and its relevant topics, assign the most appropriate question type from the list.\n",
    "\n",
    "Question: {question_text}\n",
    "\n",
    "Relevant Question Types:\n",
    "{question_types_list}\n",
    "\n",
    "Please return the most appropriate question type from the list above. If none of the question types are relevant, you can return \"Unknown\".\n",
    "Simply return the question type as a string, nothing else.\n",
    "'''\n",
    "\n",
    "question_type_prompt = PromptTemplate(\n",
    "    input_variables=[\"question_text\", \"question_types_list\"],\n",
    "    template=question_type_prompt_template,\n",
    ")\n",
    "\n",
    "topics_chain = LLMChain(llm=llm, prompt=question_type_prompt)\n",
    "\n",
    "# Assuming all_data contains the extracted questions and amath_topics is the topic-question type mapping\n",
    "for question in all_data:\n",
    "    q_text = question.get(\"question\")\n",
    "    q_category = question.get(\"category\")\n",
    "    \n",
    "    # Get relevant question types based on the identified category (topic)\n",
    "    relevant_topics = amath_topics.get(q_category)\n",
    "    \n",
    "    # If there are relevant topics, proceed with assigning the question type\n",
    "    if relevant_topics:\n",
    "        question_types_list = \"\\n\".join(relevant_topics)\n",
    "        \n",
    "        # Run the LLM chain to get the most appropriate question type\n",
    "        response = topics_chain.run(question_text=q_text, question_types_list=question_types_list)\n",
    "        \n",
    "        # Assign the question type to the question data\n",
    "        question[\"question_type\"] = response.strip()  # Clean up the response\n",
    "    \n",
    "    else:\n",
    "        # If no relevant topics, mark the question type as unknown\n",
    "        question[\"question_type\"] = \"Unknown\"\n"
   ]
  },
  {
   "cell_type": "markdown",
   "metadata": {},
   "source": [
    "## Get JSON of paper meta information"
   ]
  },
  {
   "cell_type": "code",
   "execution_count": 95,
   "metadata": {},
   "outputs": [],
   "source": [
    "# Define the prompt to extract meta information\n",
    "meta_info_prompt_template = '''\n",
    "You are provided with text from the first page of a PDF document. Extract the following meta information:\n",
    "- Subject (\"Additional Mathematics\", \"Elementary Mathematics\", \"H1 Mathematics\", or \"H2 Mathematics\")\n",
    "- School\n",
    "- Level (\"O Level\" or \"A Level\")\n",
    "- Year\n",
    "- Exam type (\"Preliminary Examination\", \"Mid Year Examination\", \"Final Year Examination\", or \"Test\")\n",
    "- Paper (1 or 2)\n",
    "\n",
    "Please output the result as a JSON object with these fields:\n",
    "\n",
    "```json\n",
    "[\n",
    "  <curly_bracket_start>\n",
    "  \"subject\": \"...\",\n",
    "  \"school\": \"...\",\n",
    "  \"level\": \"...\",\n",
    "  \"year\": \"...\",\n",
    "  \"exam_type\": \"...\",\n",
    "  \"paper\": \"...\"\n",
    "  <curly_bracket_end>\n",
    "]\n",
    "```\n",
    "\n",
    "Here is the text content:\n",
    "\n",
    "{text_content}\n",
    "'''\n",
    "\n",
    "meta_info_prompt = PromptTemplate(\n",
    "    input_variables=[\"text_content\"],\n",
    "    template=meta_info_prompt_template,\n",
    ")\n",
    "\n",
    "meta_chain = LLMChain(llm=llm, prompt=meta_info_prompt)\n",
    "\n",
    "# Extract meta information from the first page\n",
    "first_page_content = documents[0].page_content\n",
    "meta_response = meta_chain.run(text_content=first_page_content)\n"
   ]
  },
  {
   "cell_type": "code",
   "execution_count": 96,
   "metadata": {},
   "outputs": [],
   "source": [
    "meta_info = extract_json_from_response(meta_response)\n",
    "meta_info = meta_info[0] if meta_info else {}"
   ]
  },
  {
   "cell_type": "markdown",
   "metadata": {},
   "source": [
    "## Combine into one output JSON"
   ]
  },
  {
   "cell_type": "code",
   "execution_count": 97,
   "metadata": {},
   "outputs": [
    {
     "name": "stdout",
     "output_type": "stream",
     "text": [
      "Extraction complete. Data saved to  Elementary Mathematics_Bukit Panjang Government High School_2023_Preliminary Examination_paper1.json\n"
     ]
    }
   ],
   "source": [
    "# Combine meta information with extracted questions\n",
    "output_data = {\n",
    "    \"meta_info\": meta_info,\n",
    "    \"questions\": all_data\n",
    "}\n",
    "\n",
    "# Save output to a JSON file\n",
    "subject = meta_info.get(\"subject\")\n",
    "school = meta_info.get(\"school\")\n",
    "year = meta_info.get(\"year\")\n",
    "exam_type = meta_info.get(\"exam_type\")\n",
    "paper = meta_info.get(\"paper\")\n",
    "\n",
    "output_filename = f'{subject}_{school}_{year}_{exam_type}_paper{paper}.json'\n",
    "with open(output_filename, 'w') as f:\n",
    "    json.dump(output_data, f, indent=2)\n",
    "\n",
    "print(\"Extraction complete. Data saved to \", output_filename)"
   ]
  },
  {
   "cell_type": "markdown",
   "metadata": {},
   "source": [
    "## Split PDF into pages"
   ]
  },
  {
   "cell_type": "code",
   "execution_count": 98,
   "metadata": {},
   "outputs": [],
   "source": [
    "import pypdfium2 as pdfium\n",
    "\n",
    "# Load a document\n",
    "pdf = pdfium.PdfDocument(pdf_path)\n",
    "\n",
    "paper_imgs_dir = f\"exam_papers/{output_filename}/\"\n",
    "os.makedirs(paper_imgs_dir, exist_ok=True)\n",
    "\n",
    "# Loop over pages and render\n",
    "for i in range(len(pdf)):\n",
    "    page = pdf[i]\n",
    "    image = page.render(scale=4).to_pil()\n",
    "    image.save(f'{paper_imgs_dir}pg{i+1}.jpg')"
   ]
  },
  {
   "cell_type": "code",
   "execution_count": null,
   "metadata": {},
   "outputs": [],
   "source": []
  }
 ],
 "metadata": {
  "kernelspec": {
   "display_name": ".venv",
   "language": "python",
   "name": "python3"
  },
  "language_info": {
   "codemirror_mode": {
    "name": "ipython",
    "version": 3
   },
   "file_extension": ".py",
   "mimetype": "text/x-python",
   "name": "python",
   "nbconvert_exporter": "python",
   "pygments_lexer": "ipython3",
   "version": "3.10.5"
  }
 },
 "nbformat": 4,
 "nbformat_minor": 2
}
