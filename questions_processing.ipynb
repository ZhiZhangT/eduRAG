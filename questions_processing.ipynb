{
 "cells": [
  {
   "cell_type": "markdown",
   "metadata": {},
   "source": [
    "# Get JSON of an exam paper"
   ]
  },
  {
   "cell_type": "code",
   "execution_count": null,
   "metadata": {},
   "outputs": [],
   "source": [
    "import os\n",
    "import openai\n",
    "from langchain.chat_models import ChatOpenAI\n",
    "from langchain.prompts import PromptTemplate\n",
    "from langchain.chains import LLMChain\n",
    "from langchain.document_loaders import PyPDFLoader\n",
    "import re\n",
    "import json\n",
    "\n",
    "# Set your OpenAI API key\n",
    "openai.api_key = os.environ.get('OPENAI_API_KEY')\n",
    "\n",
    "# Load the PDF file\n",
    "pdf_path = \"exam_papers/bpghs_emath_prelim_paper1.pdf\"\n",
    "\n",
    "loader = PyPDFLoader(pdf_path)\n",
    "documents = loader.load()\n",
    "\n",
    "llm = ChatOpenAI(temperature=0, model_name='gpt-4o', api_key=openai.api_key)"
   ]
  },
  {
   "cell_type": "code",
   "execution_count": 171,
   "metadata": {},
   "outputs": [],
   "source": [
    "# Function to extract JSON data from the response\n",
    "def extract_json_from_response(response):\n",
    "    try:\n",
    "        data = json.loads(response)\n",
    "        return data\n",
    "    except json.JSONDecodeError:\n",
    "        # Try to extract JSON from the response using regex\n",
    "        pattern = r'\\[.*\\]'\n",
    "        match = re.search(pattern, response, re.DOTALL)\n",
    "        if match:\n",
    "            json_str = match.group(0)\n",
    "            try:\n",
    "                data = json.loads(json_str)\n",
    "                return data\n",
    "            except json.JSONDecodeError as e:\n",
    "                print(\"Error parsing JSON:\", e)\n",
    "                return None\n",
    "        else:\n",
    "            print(\"No JSON data found in the response.\")\n",
    "            return None\n"
   ]
  },
  {
   "cell_type": "markdown",
   "metadata": {},
   "source": [
    "## Get meta JSON for document"
   ]
  },
  {
   "cell_type": "code",
   "execution_count": 172,
   "metadata": {},
   "outputs": [],
   "source": [
    "# Define the prompt to extract meta information\n",
    "meta_info_prompt_template = '''\n",
    "You are provided with text from the first page of a PDF document. Extract the following meta information:\n",
    "- Subject (\"additional_mathematics\" or \"elementary_mathematics\")\n",
    "- School\n",
    "- Level (\"o_level\" or \"a_level\")\n",
    "- Year\n",
    "- Exam type (\"preliminary_exam\", \"final_exam\", \"mid_year_exam\")\n",
    "- Paper (1 or 2)\n",
    "\n",
    "Please output the result as a JSON object with these fields:\n",
    "\n",
    "```json\n",
    "[\n",
    "  <curly_bracket_start>\n",
    "  \"subject\": \"...\",\n",
    "  \"school\": \"...\",\n",
    "  \"level\": \"...\",\n",
    "  \"year\": \"...\",\n",
    "  \"exam_type\": \"...\",\n",
    "  \"paper\": \"...\"\n",
    "  <curly_bracket_end>\n",
    "]\n",
    "```\n",
    "\n",
    "Here is the text content:\n",
    "\n",
    "{text_content}\n",
    "'''\n",
    "\n",
    "meta_info_prompt = PromptTemplate(\n",
    "    input_variables=[\"text_content\"],\n",
    "    template=meta_info_prompt_template,\n",
    ")\n",
    "\n",
    "meta_chain = LLMChain(llm=llm, prompt=meta_info_prompt)\n",
    "\n",
    "# Extract meta information from the first page\n",
    "first_page_content = documents[0].page_content\n",
    "meta_response = meta_chain.run(text_content=first_page_content)"
   ]
  },
  {
   "cell_type": "code",
   "execution_count": 173,
   "metadata": {},
   "outputs": [],
   "source": [
    "meta_info = extract_json_from_response(meta_response)\n",
    "meta_info = meta_info[0] if meta_info else {}"
   ]
  },
  {
   "cell_type": "markdown",
   "metadata": {},
   "source": [
    "## Get JSON for each question"
   ]
  },
  {
   "cell_type": "code",
   "execution_count": 174,
   "metadata": {},
   "outputs": [],
   "source": [
    "# Set maximum pages per chunk to avoid exceeding token limits\n",
    "max_pages_per_chunk = 5\n",
    "\n",
    "chunks = []\n",
    "current_chunk = []\n",
    "current_pages = []\n",
    "for i, doc in enumerate(documents):\n",
    "    page_num = i + 1\n",
    "    current_chunk.append(f\"\\n\\n--- Page {page_num} ---\\n\\n{doc.page_content}\")\n",
    "    current_pages.append(page_num)\n",
    "    if len(current_chunk) == max_pages_per_chunk or i == len(documents) - 1:\n",
    "        text_content = ''.join(current_chunk)\n",
    "        chunks.append((text_content, current_pages.copy()))\n",
    "        current_chunk = []\n",
    "        current_pages = []"
   ]
  },
  {
   "cell_type": "code",
   "execution_count": 175,
   "metadata": {},
   "outputs": [
    {
     "name": "stdout",
     "output_type": "stream",
     "text": [
      "{'Quadratic Functions, Equations and Inequalities': ['Solving simultaneous equations by substitution', 'Finding coordinates of intersection points', 'Finding maximum and minimum value of a quadratic function by completing the square', 'Sketching graph of quadratic function', 'Solving quadratic inequalities', 'Intersection of straight line and curve', 'Always positive/negative quadratic expression', 'Quadratic functions in real-world context'], 'Surds': ['Rationalising denominator of surd', 'Adding and/or subtracting surds', 'Solving equations involving surds', 'Word problems involving surds'], 'Polynomials, cubic equations and partial fractions': ['Identities', 'Identities with an unknown quotient', 'Long division/synthetic method/remainder theorem', 'Application of remainder theorem', 'Sum and difference of 2 cubes', 'Solving cubic equation', 'Factor theorem and solving a cubic equation', 'Factor theorem and sketching of cubic curve', 'Forming cubic equation/expression', 'Proper algebraic fraction with linear factors in denominator', 'Proper algebraic fraction with non-linear factor in denominator', 'Proper algebraic fraction with repeated factors in the denominator', 'Improper algebraic fraction'], 'Binomial theorem and its application': ['Finding coefficients of specific terms', 'Finding values of unknown coefficients', 'Application of factorial', 'Application of general term formula', 'Applications of binomial theorem'], 'Exponential and logarithmic functions': ['Simplifying exponential expressions', 'Solving exponential equations', 'Simplifying logarithmic expressions', 'Applications of laws of logarithms', 'Solving equations involving natural logarithms', 'Solving simultaneous equations involving logarithms', 'Application of change of base', 'Real-life applications of logarithms', 'Graphs of exponential and logarithmic functions', 'Graphical solutions involving exponential/logarithmic graphs'], 'Coordinate geometry': ['Finding equation of perpendicular bisector', 'Finding fourth vertex of parallelogram', 'Finding coordinates of unknown collinear point', 'Finding equation of circle and determining if a point lies on, is inside, or outside a circle', 'Application of tangent in circle'], 'Linear law': ['Converting from linear form to non-linear equation', 'Finding values of unknown constants when given non-linear graph', 'Application of linear law in real-world contexts'], 'Trigonometric functions and equations': ['Finding trigonometric ratios', 'Solving trigonometric equations in degree mode', 'Solving trigonometric equations in radian mode', 'Finding principal values of inverse trigonometric functions', 'Sketching trigonometric graphs', 'Finding angle in a right-angled triangle', 'Real-life modeling using trigonometric function'], 'Trigonometric identities and formulae': ['Finding trigonometric ratios', 'Solving trigonometric equations using basic trigonometric identity', 'Solving trigonometric equations using compound angle formulae', 'Proving trigonometric identities', 'Evaluating trigonometric ratios using compound angle formulae', 'Finding exact values of trigonometric ratios of specific angles', 'R-formula', 'Application of R-formula in word problems'], 'Gradients, derivatives and differentiation techniques': ['Basic differentiation', 'Product rule', 'Quotient rule', 'Finding gradient of curve at a point', 'Increasing and decreasing functions', 'Higher derivatives'], 'Applications of differentiation': ['Applications of differentiation to tangents and normals', 'Rate of change', 'Stationary point', 'Stationary value involving 3 variables', 'Problem on maxima and minima'], 'Differentiation of trigonometric, logarithmic, and exponential functions and their applications': ['Differentiation of trigonometric functions', 'Differentiation of logarithmic functions', 'Differentiation of exponential functions', 'Applications of differentiation of trigonometric functions', 'Applications of differentiation of exponential functions', 'Applications of differentiation of logarithmic functions'], 'Integration': ['Basic integration', 'Integration of trigonometric functions', 'Integration of trigonometric functions using trigonometric formulae', 'Integration of functions in the form of 1/(ax+b)', 'Integration of exponential functions', 'Integration involving partial fractions', 'Finding equation of curve', 'Integration as a reverse process of differentiation', 'Integration as a reverse process of differentiation involving multiple functions'], 'Applications of integration': ['Definite integrals involving algebraic functions', 'Definite integrals involving trigonometric functions', 'Properties of definite integrals', 'Integration as a reverse process of differentiation', 'Integration as a reverse process of differentiation involving multiple functions', 'Area under curve', 'Area above and below x-axis', 'Area bounded by curve, y-axis, and line', 'Area bounded by curve and line', 'Applications of tangent and normal to shaded area'], 'Kinematics': ['Applications of differentiation, given displacement', 'Application of differentiation and integration, given velocity', 'Application of integration, given acceleration', 'Problem involving 2 moving particles'], 'Proofs in plane geometry': ['Proof involving congruent and similar triangles', 'Midpoint theorem', 'Tangent-chord theorem']}\n"
     ]
    }
   ],
   "source": [
    "with open('amath_topics.json') as f:\n",
    "    amath_topics = json.load(f)\n",
    "    print(amath_topics)"
   ]
  },
  {
   "cell_type": "code",
   "execution_count": 176,
   "metadata": {},
   "outputs": [
    {
     "name": "stdout",
     "output_type": "stream",
     "text": [
      "{'Numbers and their operations': ['Classifying numbers', 'Solving a problem involving negative numbers', 'Finding the prime factors of a composite number', 'Finding the highest common factor of 2 numbers', 'Finding the highest common factor of 3 numbers', 'Finding the lowest common factor of 2 numbers', 'Finding the lowest common factor of 3 numbers', 'Evaluating the square root of a number', 'Solving a problem involving a perfect square', 'Evaluating the cube root of a number', 'Solving a problem involving a perfect cube', 'Solving a problem involving a cube root', 'Reciprocals', 'Rounding a whole number to a specified number of significant figures', 'Rounding a decimal to a specified number of significant figures', 'Estimating the answer to a calculation', 'Performing calculations involving prefixes', 'Performing calculations involving standard form', 'Applying the laws of indices', 'Simplifying expressions involving indices'], 'Ratio and proportion': ['Simplifying ratios involving 2 quantities', 'Finding the ratio involving 2 quantities', 'Finding the ratio involving 3 quantities', 'Finding the actual distance and actual area', 'Finding the linear scale of a map', 'Applying direct proportion', 'Finding an equation when y is directly proportional to x', 'Finding an equation when y is directly proportional to square root of x', 'Applying inverse proportion', 'Finding an equation when y is inversely proportional to x', 'Finding an equation when cube of x is inversely proportional to y'], 'Percentage': ['Converting between fractions or decimals and percentages', 'Finding the value, given the percentage', 'Comparing 2 quantities by percentage', 'Increasing or decreasing a quantity by a given percentage', 'Finding the original value using reverse percentages', 'Applying percentage in real-world contexts'], 'Rate and speed': ['Applying rates in real-world contexts', 'Converting from km/h to m/s', 'Finding the distance between 2 points', 'Finding the average speed'], 'Algebraic expressions and formulae': ['Simplifying an algebraic expression', 'Evaluating an algebraic formula', 'Finding the nth term of a sequence with a common difference', 'Finding the nth term of a sequence involving perfect square', 'Finding the nth term of a sequence with a common ratio', 'Solving a problem on number patterns', 'Finding the product of 2 algebraic expressions', 'Using algebraic identities in algebraic expansion', 'Using algebraic identities to evaluate a perfect square', 'Factorising an algebraic expression by extracting common factors', 'Factorising an algebraic expression by grouping', 'Factorising an algebraic expression using algebraic identities', 'Factorising an algebraic expression using the multiplication frame', 'Adding and subtracting algebraic fractions', 'Multiplying and dividing algebraic fractions', 'Changing the subject of a formula'], 'Functions and graphs': ['Sketching the graph of y=mx+c', 'Sketching the graph of y=ax2+bx+c', 'Sketching the graph of y=(x-p)(x-q)', 'Sketching the graph of y=-(x-h)2+k', 'Graphs of cubic functions', 'Graphs of functions in the form a/x and a/x2', 'Graphs of exponential functions', 'Finding the solutions of an equation graphically', 'Estimating the gradient of a curve'], 'Equations and inequalities': ['Solving linear equations', 'Solving simple fractional equations that can be reduced to linear equations', 'Solving simultaneous equations using the method of elimination', 'Solving simultaneous equations using the method of substitution', 'Solving simultaneous equations using the graphical method', 'Solving quadratic equations by factorisation', 'Solving quadratic equations by quadratic formula', 'Solving quadratic equations by completing the square', 'Solving quadratic equations using the graphical method', 'Solving fractional equations that can be reduced to quadratic equations', 'Applying quadratic equations in real-world contexts', 'Solving a linear inequality and illustrating the solution on a number line', 'Solving a linear inequality', 'Finding the largest and smallest values of an expression'], 'Set language and notation': ['Listing the elements of a set', 'Determining whether 2 sets are equal', 'Listing the subsets and proper subsets', 'Complement sets', 'Intersection of 2 sets', 'Shading Venn diagrams, given the set notations', 'Listing the elements of the intersection and union of 2 sets', 'Drawing a Venn diagram'], 'Matrices': ['Displaying information in a matrix', 'Row matrix', 'Column matrix', 'Square matrix', 'Zero or null matrix', 'Addition and subtraction of matrices', 'Scalar multiplication of matrices', 'Multiplication of 2 matrices'], 'Problems in real-world contexts': ['Calculating simple interest', 'Calculating compound interest', 'Comparing simple interest and compound interest', 'Calculating income tax', 'Calculating utilities bill', 'Calculating hire-purchase price', 'Calculating the percentage profit', 'Calculating the cost price if a loss is made', 'Calculating money exchange', 'Interpreting a distance-time graph', 'Interpreting a speed-time graph', 'Interpreting other types of graphs', 'Sketching a water level-time graph'], 'Angles, triangles and polygons': ['Types of angles', 'Complementary and supplementary angles', 'Finding an unknown angle involving angles at a point', 'Finding an unknown angle involving parallel lines', 'Finding unknown angles in triangles', 'Finding unknown angles in a parallelogram', 'Finding unknown angles in a rhombus', 'Finding unknown angles in a trapezium', 'Finding unknown angles in a kite', 'Finding the interior and exterior angles of a regular polygon', 'Finding the number of sides of a polygon', 'Solving a problem involving a polygon', 'Constructing a quadrilateral, a perpendicular bisector, and an angle bisector'], 'Congruence and similarity': ['Proving the 2 triangles are congruent', 'Solving a pair of congruent triangles', 'Determining if 2 triangles are similar', 'Solving a pair of similar triangles', 'Finding the scale factor of an enlargement', 'Finding the ratio of the areas of 2 similar triangles', 'Solving a problem involving triangles', 'Finding the ratio of the lengths of 2 similar solids', 'Finding the mass of a similar solid', 'Finding the ratio of 2 triangles with the same height'], 'Properties of circles': ['Applying the symmetric properties of circles', 'Applying the angles properties of circles'], 'Pythagoras’ theorem and trigonometry': ['Using Pythagoras’ theorem to find the length of an unknown side', 'Determining if a triangle is right-angled', 'Finding an unknown side in a right-angled triangle', 'Finding the trigonometric ratios of acute and obtuse angles', 'Solving simple trigonometric equations', 'Finding the area of a triangle', 'Using the Sine rule to find an unknown side', 'Using the Cosine rule to find an unknown side', 'Applying the Sine and Cosine rule', 'Finding the distance, given the angle of depression', 'Stating the bearing of a point', 'Applying bearings in real-world contexts', 'Solving a 3-dimensional problem'], 'Mensuration': ['Conversion of units', 'Converting between degrees and radians', 'Finding the height of a trapezium', 'Finding the arc length and area of a sector', 'Finding the total surface area of a cone', 'Finding the volume of a sphere', 'Finding the volume and total surface area of a composite solid'], 'Coordinate geometry': ['Finding the gradient of a line', 'Finding the length of a line segment', 'Finding the equation of a straight line', 'Showing that 2 lines are perpendicular to each other'], 'Vectors in 2 dimensions': ['Vector notations', 'Finding the magnitude of a vector', 'Equal vectors', 'Finding the scalar multiple of a vector', 'Finding parallel vectors', 'Proving that 3 points lie in a straight line', 'Zero vector', 'Sum or difference of 2 vectors', 'Relating coordinates to position vectors', 'Solving a geometric problem involving vectors', 'Using vectors to find the ratio of the areas of triangles'], 'Data analysis': ['Reading a bar graph and drawing a pictogram', 'Reading a pie chart', 'Reading a line graph', 'Drawing a dot diagram', 'Drawing a stem-and-leaf diagram', 'Drawing a stem-and-leaf diagram with split stems', 'Drawing a back-to-back stem-and-leaf diagram', 'Drawing a histogram', 'Finding the mean, median and mode', 'Interpreting a cumulative frequency curve', 'Reading a box-and-whisker plot', 'Finding the mean and standard deviation', 'Finding the mean and standard deviation using mid-values'], 'Probability': ['Finding the sample space', 'Finding the probability of single events', 'Finding the probability involving mutually exclusive events', 'Finding the probability involving independent events', 'Finding the probability involving dependent events', 'Using a possibility diagram', 'Using a tree diagram']}\n"
     ]
    }
   ],
   "source": [
    "with open('emath_topics.json') as f:\n",
    "    emath_topics = json.load(f)\n",
    "    print(emath_topics)"
   ]
  },
  {
   "cell_type": "code",
   "execution_count": 177,
   "metadata": {},
   "outputs": [],
   "source": [
    "# Define the prompt template\n",
    "question_prompt_template =  \"\"\"\n",
    "    You are provided with text extracted from a PDF exam paper. The text may include multiple math questions along with diagrams. Ignore any solutions or answers provided in the text.\n",
    "    \n",
    "    Please identify each question, determine the question_number, which is an integer representing the full question (eg: 1, 2, 3), along with the question_part, a string representing the question with any sub-parts that it belongs to (eg: \"1\", \"2a\", \"2b\", \"2ai\", \"2aii\", \"3iv\", \"3v\" etc.).\n",
    "    After reading each question, express it in LaTeX format so that it can be rendered correctly.\n",
    "    Please also determine its page boundaries (page_start and page_end), and categorize it into one of the following categories:\n",
    "        {categories}\n",
    "\n",
    "    Output your result as a list of JSON objects enclosed in a code block like this:\n",
    "\n",
    "    ```json\n",
    "    [\"question\": \"...\", \"question_number\": \"...\", \"question_part\": \"...\", \"page_start\": ..., \"page_end\": ..., \"category\": \"...\"]\n",
    "    ```\n",
    "    Please ensure the output is valid JSON.\n",
    "\n",
    "    Here is the text content:\n",
    "    \n",
    "    {text_content}\n",
    "    \"\"\"\n",
    "    "
   ]
  },
  {
   "cell_type": "code",
   "execution_count": 178,
   "metadata": {},
   "outputs": [],
   "source": [
    "prompt = PromptTemplate(\n",
    "    input_variables=[\"text_content\", \"categories\"],\n",
    "    template=question_prompt_template,\n",
    ")\n",
    "\n",
    "questions_chain = LLMChain(llm=llm, prompt=prompt)"
   ]
  },
  {
   "cell_type": "code",
   "execution_count": 179,
   "metadata": {},
   "outputs": [
    {
     "name": "stdout",
     "output_type": "stream",
     "text": [
      "Processing chunk 1/3, pages 1-5\n",
      "Processing chunk 2/3, pages 6-10\n",
      "Processing chunk 3/3, pages 11-11\n"
     ]
    }
   ],
   "source": [
    "all_data = []\n",
    "\n",
    "subject = meta_info.get(\"subject\")\n",
    "if subject == \"additional_mathematics\":\n",
    "    topics = amath_topics\n",
    "else:\n",
    "    topics = emath_topics\n",
    "    \n",
    "categories = list(topics.keys())\n",
    "\n",
    "for idx, (text_content, pages) in enumerate(chunks):\n",
    "    print(f\"Processing chunk {idx+1}/{len(chunks)}, pages {pages[0]}-{pages[-1]}\")\n",
    "\n",
    "    response = questions_chain.run(text_content=text_content, categories=categories)\n",
    "\n",
    "    data = extract_json_from_response(response)\n",
    "\n",
    "    if data is not None:\n",
    "        for question in data:\n",
    "            question['score'] = 1  # score\n",
    "        all_data.extend(data)\n",
    "    else:\n",
    "        print(f\"Failed to extract data for chunk {idx+1}\")"
   ]
  },
  {
   "cell_type": "code",
   "execution_count": 180,
   "metadata": {},
   "outputs": [
    {
     "name": "stdout",
     "output_type": "stream",
     "text": [
      "[{'question': 'Given that \\\\[ \\\\begin{pmatrix} 1 & 2 & 0 \\\\\\\\ 3 & 0 & 3 \\\\\\\\ 2 & 2 & 1 \\\\end{pmatrix} \\\\begin{pmatrix} x \\\\\\\\ y \\\\\\\\ 1 \\\\end{pmatrix} = \\\\begin{pmatrix} 5 \\\\\\\\ 13 \\\\\\\\ 4 \\\\end{pmatrix} \\\\], find the value of \\\\( x \\\\) and \\\\( y \\\\).', 'question_number': '1', 'question_part': '1', 'page_start': 3, 'page_end': 3, 'category': 'Matrices'}, {'question': 'Mr Gan weighed 8 male students. The median mass of the students was 63.5 kg. The interquartile range of the masses of the students was 4.5 kg. Mr Gan realised that the scale of the weighing machine was inaccurate. The correct mass of each student was 1.5 kg less than what he had recorded. Write down the correct values for the median mass and interquartile range.', 'question_number': '2', 'question_part': '2', 'page_start': 3, 'page_end': 3, 'category': 'Data analysis'}, {'question': '27 female patients and 30 male patients living in Xin-town are found to be infected with the E-virus. The ages of the patients are shown in the stem-and-leaf diagram below. \\\\[ \\\\text{Female Patients:} \\\\] \\\\[ \\\\begin{array}{c} 7 \\\\mid 3 \\\\ 2 \\\\ 4 \\\\ 5 \\\\ 5 \\\\\\\\ 6 \\\\mid 1 \\\\ 4 \\\\ 2 \\\\ 2 \\\\ 3 \\\\ 5 \\\\ 7 \\\\\\\\ 5 \\\\mid 5 \\\\ 4 \\\\ 2 \\\\ 1 \\\\\\\\ 3 \\\\mid 1 \\\\ 1 \\\\ 0 \\\\ 0 \\\\end{array} \\\\] \\\\[ \\\\text{Male Patients:} \\\\] \\\\[ \\\\begin{array}{c} 7 \\\\mid 3 \\\\ 2 \\\\ 0 \\\\ 3 \\\\ 1 \\\\ 6 \\\\\\\\ 6 \\\\mid 6 \\\\ 4 \\\\ 4 \\\\ 2 \\\\ 5 \\\\ x \\\\ 7 \\\\ 8 \\\\ 8 \\\\\\\\ 5 \\\\mid 3 \\\\ 2 \\\\ 0 \\\\ 0 \\\\ 0 \\\\ 6 \\\\ 0 \\\\ 2 \\\\ 2 \\\\ 3 \\\\ 3 \\\\ 4 \\\\ 8 \\\\ 8 \\\\\\\\ 4 \\\\mid 5 \\\\ 6 \\\\ 7 \\\\\\\\ 3 \\\\mid 2 \\\\ 4 \\\\ 5 \\\\end{array} \\\\] Key (Female Patients): \\\\( 2 \\\\mid 7 \\\\) means 72 Key (Male Patients): \\\\( 2 \\\\mid 4 \\\\) means 24', 'question_number': '3', 'question_part': '3', 'page_start': 4, 'page_end': 5, 'category': 'Data analysis'}, {'question': '(a) Write down the range of the ages of the female patients.', 'question_number': '3', 'question_part': '3a', 'page_start': 4, 'page_end': 4, 'category': 'Data analysis'}, {'question': '(b) Find the median age of the male patients.', 'question_number': '3', 'question_part': '3b', 'page_start': 4, 'page_end': 4, 'category': 'Data analysis'}, {'question': '(c) Find the interquartile range for the male patients.', 'question_number': '3', 'question_part': '3c', 'page_start': 4, 'page_end': 4, 'category': 'Data analysis'}, {'question': '(d) Write down all possible values of \\\\( x \\\\) given that both the male and female groups have the same percentage of patients who are younger than 55 years old.', 'question_number': '3', 'question_part': '3d', 'page_start': 5, 'page_end': 5, 'category': 'Data analysis'}, {'question': 'At supermarket A, a bag of flour costs $2.90, a tray of eggs costs $4.40 and a sack of rice costs $24. The same items can be bought in supermarket B where the flour costs $3.20, eggs cost $x and rice costs $25. This information can be represented by the matrix C = \\\\begin{pmatrix} 2.9 & 4.4 & 24 \\\\\\\\ 3.2 & 25 & x \\\\end{pmatrix}.', 'question_number': '4', 'question_part': '4', 'page_start': 6, 'page_end': 6, 'category': 'Matrices'}, {'question': 'Ron buys 3 bags of flour, 4 trays of eggs and 2 sacks of rice. Zoe buys 5 bags of rice, 3 trays of eggs and 3 sacks of rice. Represent this information in a 3 \\\\times 2 matrix D.', 'question_number': '4', 'question_part': '4a', 'page_start': 6, 'page_end': 6, 'category': 'Matrices'}, {'question': 'Find, in terms of x, the matrix T = CD.', 'question_number': '4', 'question_part': '4b', 'page_start': 6, 'page_end': 6, 'category': 'Matrices'}, {'question': 'Explain what the elements in the first row of matrix T represent.', 'question_number': '4', 'question_part': '4c', 'page_start': 6, 'page_end': 6, 'category': 'Matrices'}, {'question': 'Ron would save $1.30 by buying his purchases from supermarket A. Find the value of x.', 'question_number': '4', 'question_part': '4d', 'page_start': 7, 'page_end': 7, 'category': 'Matrices'}, {'question': 'On a particular week, supermarket A was offering a store-wide 20% discount promotion while supermarket B was offering a store-wide 10% discount promotion. (i) Write down a matrix P, such that the product of P and T would give the discounted prices which Ron and Zoe each has to pay if they purchase the items from supermarkets A and B respectively.', 'question_number': '4', 'question_part': '4e(i)', 'page_start': 7, 'page_end': 7, 'category': 'Matrices'}, {'question': '(ii) Hence, using the value of x found in (d), find the product of the matrices P and T.', 'question_number': '4', 'question_part': '4e(ii)', 'page_start': 7, 'page_end': 7, 'category': 'Matrices'}, {'question': 'The speeds of 160 cars passing through a checkpoint one morning were recorded. The cumulative frequency curve below shows the speed, x km/h, and the number of cars with speed less than or equals to x km/h.', 'question_number': '5', 'question_part': '5', 'page_start': 8, 'page_end': 8, 'category': 'Data analysis'}, {'question': 'Use the curve to estimate (i) the median speed.', 'question_number': '5', 'question_part': '5a(i)', 'page_start': 8, 'page_end': 8, 'category': 'Data analysis'}, {'question': '(ii) the interquartile range of the speeds.', 'question_number': '5', 'question_part': '5a(ii)', 'page_start': 8, 'page_end': 8, 'category': 'Data analysis'}, {'question': '(iii) the 30th percentile.', 'question_number': '5', 'question_part': '5a(iii)', 'page_start': 8, 'page_end': 8, 'category': 'Data analysis'}, {'question': 'Explain why it is not possible to state the number of cars with speed less than 45 km/h.', 'question_number': '5', 'question_part': '5b', 'page_start': 9, 'page_end': 9, 'category': 'Data analysis'}, {'question': 'The speed limit on the road is v km/h. Given that \\\\frac{1}{40} of the vehicles exceeded the speed limit, find the value of v.', 'question_number': '5', 'question_part': '5c', 'page_start': 9, 'page_end': 9, 'category': 'Data analysis'}, {'question': 'The speeds of 160 cars passing through the same checkpoint in the evening were also recorded. The box-and-whisker plot below shows the distribution of the speeds. Make two comments comparing the speed of the cars in the morning and in the evening.', 'question_number': '5', 'question_part': '5d', 'page_start': 9, 'page_end': 9, 'category': 'Data analysis'}, {'question': '(i) Complete the grouped frequency table for the speeds of the cars passing through the checkpoint in the morning.', 'question_number': '5', 'question_part': '5e(i)', 'page_start': 10, 'page_end': 10, 'category': 'Data analysis'}, {'question': 'Calculate an estimate of the (ii) mean speed.', 'question_number': '5', 'question_part': '5e(ii)', 'page_start': 10, 'page_end': 10, 'category': 'Data analysis'}, {'question': '(iii) standard deviation.', 'question_number': '5', 'question_part': '5e(iii)', 'page_start': 10, 'page_end': 10, 'category': 'Data analysis'}, {'question': 'Explain why the mean speed of the cars is only an estimate.', 'question_number': '5', 'question_part': '5f', 'page_start': 10, 'page_end': 10, 'category': 'Data analysis'}, {'question': '5, 3 \\\\quad xy = - =', 'question_number': '1', 'question_part': '1', 'page_start': 11, 'page_end': 11, 'category': 'Algebraic expressions and formulae'}, {'question': 'Median \\\\text{ Mass: } 62; \\\\text{ Interquartile Range: } 4.5', 'question_number': '2', 'question_part': '2', 'page_start': 11, 'page_end': 11, 'category': 'Data analysis'}, {'question': '(a) 60', 'question_number': '3', 'question_part': '3a', 'page_start': 11, 'page_end': 11, 'category': 'Numbers and their operations'}, {'question': '(b) 61', 'question_number': '3', 'question_part': '3b', 'page_start': 11, 'page_end': 11, 'category': 'Numbers and their operations'}, {'question': '(c) 31', 'question_number': '3', 'question_part': '3c', 'page_start': 11, 'page_end': 11, 'category': 'Numbers and their operations'}, {'question': '(d) x = 5, 6, 7', 'question_number': '3', 'question_part': '3d', 'page_start': 11, 'page_end': 11, 'category': 'Equations and inequalities'}, {'question': '(a) \\\\begin{pmatrix} 35 & 43 \\\\ 23 \\\\end{pmatrix}', 'question_number': '4', 'question_part': '4a', 'page_start': 11, 'page_end': 11, 'category': 'Matrices'}, {'question': '(b) \\\\begin{pmatrix} 74.3 & 99.7 \\\\ 59.6 & 4 \\\\ 91 & 3 \\\\end{pmatrix} xx', 'question_number': '4', 'question_part': '4b', 'page_start': 11, 'page_end': 11, 'category': 'Matrices'}, {'question': '(c) \\\\text{The elements represent the amount of money Ron and Zoe have to pay respectively for the items purchased from supermarket A.}', 'question_number': '4', 'question_part': '4c', 'page_start': 11, 'page_end': 11, 'category': 'Problems in real-world contexts'}, {'question': '(d) x = 4', 'question_number': '4', 'question_part': '4d', 'page_start': 11, 'page_end': 11, 'category': 'Equations and inequalities'}, {'question': '(e)(i) \\\\begin{pmatrix} 0.8 & 0 \\\\ 0 & 0.9 \\\\end{pmatrix}', 'question_number': '4', 'question_part': '4ei', 'page_start': 11, 'page_end': 11, 'category': 'Matrices'}, {'question': '(e)(ii) \\\\begin{pmatrix} 59.44 & 79.76 \\\\ 68.04 & 92.7 \\\\end{pmatrix}', 'question_number': '4', 'question_part': '4eii', 'page_start': 11, 'page_end': 11, 'category': 'Matrices'}, {'question': '(a)(i) 42', 'question_number': '5', 'question_part': '5ai', 'page_start': 11, 'page_end': 11, 'category': 'Numbers and their operations'}, {'question': '(a)(ii) 9', 'question_number': '5', 'question_part': '5aii', 'page_start': 11, 'page_end': 11, 'category': 'Numbers and their operations'}, {'question': '(a)(iii) 38', 'question_number': '5', 'question_part': '5aiii', 'page_start': 11, 'page_end': 11, 'category': 'Numbers and their operations'}, {'question': '(b) \\\\text{Cumulative frequency curve is a “less than or equals to curve”. Reading from graph at } x = 45 \\\\text{ will include cars travelling at 45 km/h.}', 'question_number': '5', 'question_part': '5b', 'page_start': 11, 'page_end': 11, 'category': 'Data analysis'}, {'question': '(c) v = 55', 'question_number': '5', 'question_part': '5c', 'page_start': 11, 'page_end': 11, 'category': 'Rate and speed'}, {'question': '(d) \\\\text{Speed of cars in the evening is faster due to a higher median speed of 49 km/h, as compared to speed of the cars in the afternoon, which has a median speed of 42 km/h; Cars in the evening were driving at a less consistent speed due to a higher IQR of 15, as compared to cars in the afternoon of lower IQR at 9.}', 'question_number': '5', 'question_part': '5d', 'page_start': 11, 'page_end': 11, 'category': 'Data analysis'}, {'question': '(e)(i) 48, 34, 10', 'question_number': '5', 'question_part': '5ei', 'page_start': 11, 'page_end': 11, 'category': 'Numbers and their operations'}, {'question': '(e)(ii) 41.7 \\\\text{ km/h}', 'question_number': '5', 'question_part': '5eii', 'page_start': 11, 'page_end': 11, 'category': 'Rate and speed'}, {'question': '(e)(iii) 6.30', 'question_number': '5', 'question_part': '5eiii', 'page_start': 11, 'page_end': 11, 'category': 'Numbers and their operations'}, {'question': '(f) \\\\text{We are not given the exact speed of every car OR mean speed is calculated by taking the mid value of each interval.}', 'question_number': '5', 'question_part': '5f', 'page_start': 11, 'page_end': 11, 'category': 'Data analysis'}]\n"
     ]
    }
   ],
   "source": [
    "print(all_data)"
   ]
  },
  {
   "cell_type": "code",
   "execution_count": 181,
   "metadata": {},
   "outputs": [
    {
     "name": "stdout",
     "output_type": "stream",
     "text": [
      "dict_keys(['question', 'question_number', 'question_part', 'page_start', 'page_end', 'category'])\n"
     ]
    }
   ],
   "source": [
    "print(all_data[0].keys())"
   ]
  },
  {
   "cell_type": "code",
   "execution_count": 182,
   "metadata": {},
   "outputs": [],
   "source": [
    "# Define a prompt template for assigning question types\n",
    "question_type_prompt_template = '''\n",
    "Given the following question and its relevant topics, assign the most appropriate question type from the list.\n",
    "\n",
    "Question: {question_text}\n",
    "\n",
    "Relevant Question Types:\n",
    "{question_types_list}\n",
    "\n",
    "Please return the most appropriate question type from the list above. If none of the question types are relevant, you can return \"Unknown\".\n",
    "Simply return the question type as a string, nothing else.\n",
    "'''\n",
    "\n",
    "question_type_prompt = PromptTemplate(\n",
    "    input_variables=[\"question_text\", \"question_types_list\"],\n",
    "    template=question_type_prompt_template,\n",
    ")\n",
    "\n",
    "topics_chain = LLMChain(llm=llm, prompt=question_type_prompt)\n",
    "\n",
    "# Assuming all_data contains the extracted questions and amath_topics is the topic-question type mapping\n",
    "for question in all_data:\n",
    "    q_text = question.get(\"question\")\n",
    "    q_category = question.get(\"category\")\n",
    "    \n",
    "    # Get relevant question types based on the identified category (topic)\n",
    "    relevant_topics = topics.get(q_category)\n",
    "\n",
    "    # Assign difficulty level based on heuristics (e.g., length of question or keywords)\n",
    "    if len(q_text.split()) < 20:\n",
    "        question[\"difficulty_level\"] = \"easy\"\n",
    "    elif len(q_text.split()) < 50:\n",
    "        question[\"difficulty_level\"] = \"medium\"\n",
    "    else:\n",
    "        question[\"difficulty_level\"] = \"hard\"\n",
    "\n",
    "    # If there are relevant topics, proceed with assigning the question type\n",
    "    if relevant_topics:\n",
    "        question_types_list = \"\\n\".join(relevant_topics)\n",
    "        \n",
    "        # Run the LLM chain to get the most appropriate question type\n",
    "        response = topics_chain.run(question_text=q_text, question_types_list=question_types_list)\n",
    "        \n",
    "        # Assign the question type to the question data\n",
    "        question[\"question_type\"] = response.strip()  # Clean up the response\n",
    "    \n",
    "    else:\n",
    "        # If no relevant topics, mark the question type as unknown\n",
    "        question[\"question_type\"] = \"Unknown\"\n"
   ]
  },
  {
   "cell_type": "markdown",
   "metadata": {},
   "source": [
    "## Combine into one output JSON"
   ]
  },
  {
   "cell_type": "code",
   "execution_count": 183,
   "metadata": {},
   "outputs": [
    {
     "name": "stdout",
     "output_type": "stream",
     "text": [
      "Extraction complete. Data saved to  elementary_mathematics_XINMIN SECONDARY SCHOOL_2023_mid_year_exam_paper2.json\n"
     ]
    }
   ],
   "source": [
    "# Combine meta information with extracted questions\n",
    "output_data = {\n",
    "    \"meta_info\": meta_info,\n",
    "    \"questions\": all_data\n",
    "}\n",
    "\n",
    "# Save output to a JSON file\n",
    "subject = meta_info.get(\"subject\")\n",
    "school = meta_info.get(\"school\")\n",
    "year = meta_info.get(\"year\")\n",
    "exam_type = meta_info.get(\"exam_type\")\n",
    "paper = meta_info.get(\"paper\")\n",
    "\n",
    "output_filename = f'{subject}_{school}_{year}_{exam_type}_paper{paper}.json'\n",
    "with open(output_filename, 'w') as f:\n",
    "    json.dump(output_data, f, indent=2)\n",
    "\n",
    "print(\"Extraction complete. Data saved to \", output_filename)"
   ]
  },
  {
   "cell_type": "markdown",
   "metadata": {},
   "source": [
    "## Split PDF into pages"
   ]
  },
  {
   "cell_type": "code",
   "execution_count": 184,
   "metadata": {},
   "outputs": [
    {
     "data": {
      "text/plain": [
       "'\\nimport pypdfium2 as pdfium\\n\\n# Load a document\\npdf = pdfium.PdfDocument(pdf_path)\\n\\npaper_imgs_dir = f\"exam_papers/{output_filename}/\"\\nos.makedirs(paper_imgs_dir, exist_ok=True)\\n\\n# Loop over pages and render\\nfor i in range(len(pdf)):\\n    page = pdf[i]\\n    image = page.render(scale=4).to_pil()\\n    image.save(f\\'{paper_imgs_dir}pg{i+1}.jpg\\')\\n'"
      ]
     },
     "execution_count": 184,
     "metadata": {},
     "output_type": "execute_result"
    }
   ],
   "source": [
    "'''\n",
    "import pypdfium2 as pdfium\n",
    "\n",
    "# Load a document\n",
    "pdf = pdfium.PdfDocument(pdf_path)\n",
    "\n",
    "paper_imgs_dir = f\"exam_papers/{output_filename}/\"\n",
    "os.makedirs(paper_imgs_dir, exist_ok=True)\n",
    "\n",
    "# Loop over pages and render\n",
    "for i in range(len(pdf)):\n",
    "    page = pdf[i]\n",
    "    image = page.render(scale=4).to_pil()\n",
    "    image.save(f'{paper_imgs_dir}pg{i+1}.jpg')\n",
    "'''"
   ]
  },
  {
   "cell_type": "code",
   "execution_count": null,
   "metadata": {},
   "outputs": [],
   "source": []
  }
 ],
 "metadata": {
  "kernelspec": {
   "display_name": ".venv",
   "language": "python",
   "name": "python3"
  },
  "language_info": {
   "codemirror_mode": {
    "name": "ipython",
    "version": 3
   },
   "file_extension": ".py",
   "mimetype": "text/x-python",
   "name": "python",
   "nbconvert_exporter": "python",
   "pygments_lexer": "ipython3",
   "version": "3.10.5"
  }
 },
 "nbformat": 4,
 "nbformat_minor": 2
}
