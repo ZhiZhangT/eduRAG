{
 "cells": [
  {
   "cell_type": "markdown",
   "metadata": {},
   "source": [
    "# Get JSON of an exam paper"
   ]
  },
  {
   "cell_type": "code",
   "execution_count": 33,
   "metadata": {},
   "outputs": [],
   "source": [
    "import os\n",
    "import openai\n",
    "from langchain.chat_models import ChatOpenAI\n",
    "from langchain.prompts import PromptTemplate\n",
    "from langchain.chains import LLMChain\n",
    "from langchain.document_loaders import PyPDFLoader\n",
    "import re\n",
    "import json\n",
    "\n",
    "# Set your OpenAI API key\n",
    "openai.api_key = os.environ.get('OPENAI_API_KEY')\n",
    "\n",
    "# Load the PDF file\n",
    "pdf_path = \"exam_papers/chij_amaths_p2.pdf\" \n",
    "\n",
    "loader = PyPDFLoader(pdf_path)\n",
    "documents = loader.load()"
   ]
  },
  {
   "cell_type": "code",
   "execution_count": 34,
   "metadata": {},
   "outputs": [],
   "source": [
    "# Function to extract JSON data from the response\n",
    "def extract_json_from_response(response):\n",
    "    try:\n",
    "        data = json.loads(response)\n",
    "        return data\n",
    "    except json.JSONDecodeError:\n",
    "        # Try to extract JSON from the response using regex\n",
    "        pattern = r'\\[.*\\]'\n",
    "        match = re.search(pattern, response, re.DOTALL)\n",
    "        if match:\n",
    "            json_str = match.group(0)\n",
    "            try:\n",
    "                data = json.loads(json_str)\n",
    "                return data\n",
    "            except json.JSONDecodeError as e:\n",
    "                print(\"Error parsing JSON:\", e)\n",
    "                return None\n",
    "        else:\n",
    "            print(\"No JSON data found in the response.\")\n",
    "            return None\n"
   ]
  },
  {
   "cell_type": "markdown",
   "metadata": {},
   "source": [
    "## Get JSON for each question"
   ]
  },
  {
   "cell_type": "code",
   "execution_count": 35,
   "metadata": {},
   "outputs": [],
   "source": [
    "# Set maximum pages per chunk to avoid exceeding token limits\n",
    "max_pages_per_chunk = 5\n",
    "\n",
    "chunks = []\n",
    "current_chunk = []\n",
    "current_pages = []\n",
    "for i, doc in enumerate(documents):\n",
    "    page_num = i + 1\n",
    "    current_chunk.append(f\"\\n\\n--- Page {page_num} ---\\n\\n{doc.page_content}\")\n",
    "    current_pages.append(page_num)\n",
    "    if len(current_chunk) == max_pages_per_chunk or i == len(documents) - 1:\n",
    "        text_content = ''.join(current_chunk)\n",
    "        chunks.append((text_content, current_pages.copy()))\n",
    "        current_chunk = []\n",
    "        current_pages = []"
   ]
  },
  {
   "cell_type": "code",
   "execution_count": 36,
   "metadata": {},
   "outputs": [],
   "source": [
    "# Define the prompt template\n",
    "prompt_template =  \"\"\"\n",
    "    You are provided with text extracted from a PDF exam paper. The text may include multiple math questions along with diagrams.\n",
    "\n",
    "    Please identify each question, determine its page boundaries (page_start and page_end), and categorize it into one of the following categories:\n",
    "\n",
    "    Quadratic Functions, Equations and Inequalities\n",
    "    Surds\n",
    "    Polynomials, cubic equations and partial fractions\n",
    "    Binomial theorem and its application\n",
    "    Exponential and logarithmic functions\n",
    "    Coordinate geometry\n",
    "    Linear law\n",
    "    Trigonometric functions and equations\n",
    "    Trigonometric identities and formulae\n",
    "    Gradients, derivatives and differentiation techniques\n",
    "    Applications of differentiation\n",
    "    Differentiation of trigonometric, logarithmic, and exponential functions and their applications\n",
    "    Integration\n",
    "    Applications of integration\n",
    "    Kinematics\n",
    "    Proofs in plane geometry\n",
    "\n",
    "    Output your result as a list of JSON objects enclosed in a code block like this:\n",
    "\n",
    "    ```json\n",
    "    [\"question\": \"...\", \"page_start\": ..., \"page_end\": ..., \"category\": \"...\", ...]\n",
    "    ```\n",
    "    Please ensure the output is valid JSON.\n",
    "\n",
    "    Here is the text content:\n",
    "    \n",
    "    {text_content}\n",
    "    \"\"\"\n",
    "    "
   ]
  },
  {
   "cell_type": "code",
   "execution_count": 37,
   "metadata": {},
   "outputs": [],
   "source": [
    "prompt = PromptTemplate(\n",
    "    input_variables=[\"text_content\"],\n",
    "    template=prompt_template,\n",
    ")\n",
    "\n",
    "llm = ChatOpenAI(temperature=0, model_name='gpt-4o', api_key=openai.api_key)\n",
    "\n",
    "questions_chain = LLMChain(llm=llm, prompt=prompt)"
   ]
  },
  {
   "cell_type": "code",
   "execution_count": 38,
   "metadata": {},
   "outputs": [
    {
     "name": "stdout",
     "output_type": "stream",
     "text": [
      "Processing chunk 1/4, pages 1-5\n",
      "Processing chunk 2/4, pages 6-10\n",
      "Processing chunk 3/4, pages 11-15\n",
      "Processing chunk 4/4, pages 16-17\n"
     ]
    }
   ],
   "source": [
    "all_data = []\n",
    "\n",
    "for idx, (text_content, pages) in enumerate(chunks):\n",
    "    print(f\"Processing chunk {idx+1}/{len(chunks)}, pages {pages[0]}-{pages[-1]}\")\n",
    "\n",
    "    response = questions_chain.run(text_content=text_content)\n",
    "\n",
    "    data = extract_json_from_response(response)\n",
    "\n",
    "    if data is not None:\n",
    "        all_data.extend(data)\n",
    "    else:\n",
    "        print(f\"Failed to extract data for chunk {idx+1}\")"
   ]
  },
  {
   "cell_type": "code",
   "execution_count": 39,
   "metadata": {},
   "outputs": [
    {
     "name": "stdout",
     "output_type": "stream",
     "text": [
      "[{'question': 'Given that f(x) = 3x^3 + 6x^2 - 7x - 2, show that x + 1 is a factor of f(x) and hence factorise f(x) completely.', 'page_start': 3, 'page_end': 3, 'category': 'Polynomials, cubic equations and partial fractions'}, {'question': 'The equation of a circle is (x - 3)^2 + (y + 4)^2 = 26. Determine if the origin O lies inside or outside the circle.', 'page_start': 3, 'page_end': 3, 'category': 'Coordinate geometry'}, {'question': 'Solve the equation e^(2x) - e^x = 3, giving your answer(s) correct to 3 significant figures.', 'page_start': 4, 'page_end': 4, 'category': 'Exponential and logarithmic functions'}, {'question': 'Given that y = 3x^3 - 16x^5, find (i) the value(s) of x for which dy/dx = 1, (ii) the value of the integral from 0 to 1 of y dx, giving your answer correct to 3 significant figures.', 'page_start': 5, 'page_end': 5, 'category': 'Applications of differentiation'}, {'question': '5(a) (i) Using the substitution z = 1 + x, write down all the terms in the expansion of (1 + x)^6, leaving each term in the form (1 + kx)^p where k and p are integers. (ii) Hence show that the remainder when (2 + x)^6 is divided by 1 + x is 1. (b) Given that the coefficient of x^2 in the expansion of (1 + 2x)(1 - px)^5 is 20, find the two possible values of the constant p.', 'page_start': 6, 'page_end': 6, 'category': 'Binomial theorem and its application'}, {'question': '6 At time t seconds, the velocity, v m/s, of a metal ball falling through a very thick liquid is given by v = 8(1 - e^(-t/3)). (i) State the initial velocity of the ball. (ii) Find an expression for the depth of the ball in terms of t. (iii) Show that the ball is accelerating throughout its motion. (iv) Deduce the motion of the ball for large values of t.', 'page_start': 7, 'page_end': 7, 'category': 'Kinematics'}, {'question': '7 The diagram shows a quadrilateral ABCD with angles ABC and ADC both equal to 90°. Angle BAD = θ. The lengths of AB, BC and CD are 5 m, 1 m and 3 m respectively. The point F on AD is such that BF is perpendicular to AD. (i) Show that the length of BF is cos θ + 3. (ii) Hence show that 5sin θ - cos θ = 3. (iii) By expressing 5sin θ - cos θ in the form R sin(θ - α), where R > 0 and 0° < α < 90°, find the value of θ.', 'page_start': 8, 'page_end': 9, 'category': 'Trigonometric identities and formulae'}, {'question': '8 The equation of a curve C1 is y = 3x^2 - 6x. (i) Show that the coordinates of the maximum point of the curve C1 are (1, 3). (ii) Using your answer in part (i), state the range of values of k for which the curve C1 lies entirely below the line y = k. The curve C2 is the reflection of the curve C1 in the line y = k, where k takes one of the values found in part (ii). (iii) Deduce the equation of the curve C2, giving your answer in terms of k.', 'page_start': 10, 'page_end': 10, 'category': 'Coordinate geometry'}, {'question': 'Another line y = x + a is a tangent to the curve C1 at the point P. (iv) Find the value of the constant a.', 'page_start': 11, 'page_end': 11, 'category': 'Coordinate geometry'}, {'question': '(v) Find the coordinates of P.', 'page_start': 11, 'page_end': 11, 'category': 'Coordinate geometry'}, {'question': '9 The equation of a circle is 224 12 36 x y x y+ − − + = 0. The equation of the line L is y = kx, where k is a constant. (i) Find the radius of the circle and the coordinates of its centre.', 'page_start': 12, 'page_end': 12, 'category': 'Coordinate geometry'}, {'question': '(ii) State the equations of the horizontal tangents to the circle.', 'page_start': 12, 'page_end': 12, 'category': 'Coordinate geometry'}, {'question': '(iii) Find the range of values of k for which L does not intersect the circle.', 'page_start': 12, 'page_end': 12, 'category': 'Coordinate geometry'}, {'question': 'It is given that k = 1. The point on the line L that is closest to the circle is P. (iv) Find the coordinates of P.', 'page_start': 13, 'page_end': 13, 'category': 'Coordinate geometry'}, {'question': '10 (i) Show that 1/4 d/dx e^(-x) = (1/4)e^(-x) - 1.', 'page_start': 14, 'page_end': 14, 'category': 'Differentiation of trigonometric, logarithmic, and exponential functions and their applications'}, {'question': '(ii) Hence show that ∫ e^(-x) dx = (1/4)e^(-x) - 1/4 e^(-x) + C where C is a constant.', 'page_start': 14, 'page_end': 14, 'category': 'Integration'}, {'question': '(iii) The diagram shows part of the curve y = (1/4)e^(-x). The point M is the maximum point of the curve and OM is a straight line. Show that the area of the shaded region is (40 - 16e^(-1)) units^2.', 'page_start': 15, 'page_end': 15, 'category': 'Applications of integration'}, {'question': 'The temperature, Cθ°, of a liquid placed in a container can be modelled by an equation of the form 32btae θ−=+, where a and b are constants and t is the time in minutes that the liquid has been left in the container. The table below records the value of θ for various values of t. t minutes 0 10 20 30 Cθ° 120.0 107.6 97.7 88.0 (i) On the grid given, plot ln(32)θ− against t and draw a straight line graph. (ii) Use the graph to estimate the value of each of the constants a and b. (v) Use the graph to estimate when the temperature of the liquid drops to 100°C.', 'page_start': 16, 'page_end': 17, 'category': 'Exponential and logarithmic functions'}]\n"
     ]
    }
   ],
   "source": [
    "print(all_data)"
   ]
  },
  {
   "cell_type": "code",
   "execution_count": 40,
   "metadata": {},
   "outputs": [
    {
     "name": "stdout",
     "output_type": "stream",
     "text": [
      "dict_keys(['question', 'page_start', 'page_end', 'category'])\n"
     ]
    }
   ],
   "source": [
    "print(all_data[0].keys())"
   ]
  },
  {
   "cell_type": "code",
   "execution_count": 41,
   "metadata": {},
   "outputs": [
    {
     "name": "stdout",
     "output_type": "stream",
     "text": [
      "{'Quadratic Functions, Equations and Inequalities': ['Solving simultaneous equations by substitution', 'Finding coordinates of intersection points', 'Finding maximum and minimum value of a quadratic function by completing the square', 'Sketching graph of quadratic function', 'Solving quadratic inequalities', 'Intersection of straight line and curve', 'Always positive/negative quadratic expression', 'Quadratic functions in real-world context'], 'Surds': ['Rationalising denominator of surd', 'Adding and/or subtracting surds', 'Solving equations involving surds', 'Word problems involving surds'], 'Polynomials, cubic equations and partial fractions': ['Identities', 'Identities with an unknown quotient', 'Long division/synthetic method/remainder theorem', 'Application of remainder theorem', 'Sum and difference of 2 cubes', 'Solving cubic equation', 'Factor theorem and solving a cubic equation', 'Factor theorem and sketching of cubic curve', 'Forming cubic equation/expression', 'Proper algebraic fraction with linear factors in denominator', 'Proper algebraic fraction with non-linear factor in denominator', 'Proper algebraic fraction with repeated factors in the denominator', 'Improper algebraic fraction'], 'Binomial theorem and its application': ['Finding coefficients of specific terms', 'Finding values of unknown coefficients', 'Application of factorial', 'Application of general term formula', 'Applications of binomial theorem'], 'Exponential and logarithmic functions': ['Simplifying exponential expressions', 'Solving exponential equations', 'Simplifying logarithmic expressions', 'Applications of laws of logarithms', 'Solving equations involving natural logarithms', 'Solving simultaneous equations involving logarithms', 'Application of change of base', 'Real-life applications of logarithms', 'Graphs of exponential and logarithmic functions', 'Graphical solutions involving exponential/logarithmic graphs'], 'Coordinate geometry': ['Finding equation of perpendicular bisector', 'Finding fourth vertex of parallelogram', 'Finding coordinates of unknown collinear point', 'Finding equation of circle and determining if a point lies on, is inside, or outside a circle', 'Application of tangent in circle'], 'Linear law': ['Converting from linear form to non-linear equation', 'Finding values of unknown constants when given non-linear graph', 'Application of linear law in real-world contexts'], 'Trigonometric functions and equations': ['Finding trigonometric ratios', 'Solving trigonometric equations in degree mode', 'Solving trigonometric equations in radian mode', 'Finding principal values of inverse trigonometric functions', 'Sketching trigonometric graphs', 'Finding angle in a right-angled triangle', 'Real-life modeling using trigonometric function'], 'Trigonometric identities and formulae': ['Finding trigonometric ratios', 'Solving trigonometric equations using basic trigonometric identity', 'Solving trigonometric equations using compound angle formulae', 'Proving trigonometric identities', 'Evaluating trigonometric ratios using compound angle formulae', 'Finding exact values of trigonometric ratios of specific angles', 'R-formula', 'Application of R-formula in word problems'], 'Gradients, derivatives and differentiation techniques': ['Basic differentiation', 'Product rule', 'Quotient rule', 'Finding gradient of curve at a point', 'Increasing and decreasing functions', 'Higher derivatives'], 'Applications of differentiation': ['Applications of differentiation to tangents and normals', 'Rate of change', 'Stationary point', 'Stationary value involving 3 variables', 'Problem on maxima and minima'], 'Differentiation of trigonometric, logarithmic, and exponential functions and their applications': ['Differentiation of trigonometric functions', 'Differentiation of logarithmic functions', 'Differentiation of exponential functions', 'Applications of differentiation of trigonometric functions', 'Applications of differentiation of exponential functions', 'Applications of differentiation of logarithmic functions'], 'Integration': ['Basic integration', 'Integration of trigonometric functions', 'Integration of trigonometric functions using trigonometric formulae', 'Integration of functions in the form of 1/(ax+b)', 'Integration of exponential functions', 'Integration involving partial fractions', 'Finding equation of curve', 'Integration as a reverse process of differentiation', 'Integration as a reverse process of differentiation involving multiple functions'], 'Applications of integration': ['Definite integrals involving algebraic functions', 'Definite integrals involving trigonometric functions', 'Properties of definite integrals', 'Integration as a reverse process of differentiation', 'Integration as a reverse process of differentiation involving multiple functions', 'Area under curve', 'Area above and below x-axis', 'Area bounded by curve, y-axis, and line', 'Area bounded by curve and line', 'Applications of tangent and normal to shaded area'], 'Kinematics': ['Applications of differentiation, given displacement', 'Application of differentiation and integration, given velocity', 'Application of integration, given acceleration', 'Problem involving 2 moving particles'], 'Proofs in plane geometry': ['Proof involving congruent and similar triangles', 'Midpoint theorem', 'Tangent-chord theorem']}\n"
     ]
    }
   ],
   "source": [
    "with open('amath_topics.json') as f:\n",
    "    amath_topics = json.load(f)\n",
    "    print(amath_topics)"
   ]
  },
  {
   "cell_type": "code",
   "execution_count": 42,
   "metadata": {},
   "outputs": [],
   "source": [
    "# Define a prompt template for assigning question types\n",
    "question_type_prompt_template = '''\n",
    "Given the following question and its relevant topics, assign the most appropriate question type from the list.\n",
    "\n",
    "Question: {question_text}\n",
    "\n",
    "Relevant Question Types:\n",
    "{question_types_list}\n",
    "\n",
    "Please choose the most appropriate question types from the list above. Choose either 1, 2 or 3 most relevant question types only, separated by commas.\n",
    "'''\n",
    "\n",
    "question_type_prompt = PromptTemplate(\n",
    "    input_variables=[\"question_text\", \"question_types_list\"],\n",
    "    template=question_type_prompt_template,\n",
    ")\n",
    "\n",
    "topics_chain = LLMChain(llm=llm, prompt=question_type_prompt)\n",
    "\n",
    "# Assuming all_data contains the extracted questions and amath_topics is the topic-question type mapping\n",
    "for question in all_data:\n",
    "    q_text = question.get(\"question\")\n",
    "    q_category = question.get(\"category\")\n",
    "    \n",
    "    # Get relevant question types based on the identified category (topic)\n",
    "    relevant_topics = amath_topics.get(q_category)\n",
    "    \n",
    "    # If there are relevant topics, proceed with assigning the question type\n",
    "    if relevant_topics:\n",
    "        question_types_list = \"\\n\".join(relevant_topics)\n",
    "        \n",
    "        # Run the LLM chain to get the most appropriate question type\n",
    "        response = topics_chain.run(question_text=q_text, question_types_list=question_types_list)\n",
    "        \n",
    "        # Assign the question type to the question data\n",
    "        question[\"question_type\"] = response.strip()  # Clean up the response\n",
    "    \n",
    "    else:\n",
    "        # If no relevant topics, mark the question type as unknown\n",
    "        question[\"question_type\"] = \"Unknown\"\n"
   ]
  },
  {
   "cell_type": "markdown",
   "metadata": {},
   "source": [
    "## Get JSON of paper meta information"
   ]
  },
  {
   "cell_type": "code",
   "execution_count": 43,
   "metadata": {},
   "outputs": [],
   "source": [
    "# Define the prompt to extract meta information\n",
    "meta_info_prompt_template = '''\n",
    "You are provided with text from the first page of a PDF document. Extract the following meta information:\n",
    "- Subject (Additional Mathematics or Elementary Mathematics)\n",
    "- School\n",
    "- Year\n",
    "- Exam type (Preliminary Examination, Mid Year Examination, Final Year Examination, or Test)\n",
    "- Paper (1 or 2)\n",
    "\n",
    "Please output the result as a JSON object with these fields:\n",
    "\n",
    "```json\n",
    "[\n",
    "  <curly_bracket_start>\n",
    "  \"subject\": \"...\",\n",
    "  \"school\": \"...\",\n",
    "  \"year\": \"...\",\n",
    "  \"exam_type\": \"...\",\n",
    "  \"paper\": \"...\"\n",
    "  <curly_bracket_end>\n",
    "]\n",
    "```\n",
    "\n",
    "Here is the text content:\n",
    "\n",
    "{text_content}\n",
    "'''\n",
    "\n",
    "meta_info_prompt = PromptTemplate(\n",
    "    input_variables=[\"text_content\"],\n",
    "    template=meta_info_prompt_template,\n",
    ")\n",
    "\n",
    "meta_chain = LLMChain(llm=llm, prompt=meta_info_prompt)\n",
    "\n",
    "# Extract meta information from the first page\n",
    "first_page_content = documents[0].page_content\n",
    "meta_response = meta_chain.run(text_content=first_page_content)\n"
   ]
  },
  {
   "cell_type": "code",
   "execution_count": 44,
   "metadata": {},
   "outputs": [],
   "source": [
    "meta_info = extract_json_from_response(meta_response)\n",
    "meta_info = meta_info[0] if meta_info else {}"
   ]
  },
  {
   "cell_type": "markdown",
   "metadata": {},
   "source": [
    "## Combine into one output JSON"
   ]
  },
  {
   "cell_type": "code",
   "execution_count": 45,
   "metadata": {},
   "outputs": [
    {
     "name": "stdout",
     "output_type": "stream",
     "text": [
      "Extraction complete. Data saved to  Additional Mathematics_CHIJ ST. THERESA’S CONVENT_2023_Preliminary Examination_paper2.json\n"
     ]
    }
   ],
   "source": [
    "# Combine meta information with extracted questions\n",
    "output_data = {\n",
    "    \"meta_info\": meta_info,\n",
    "    \"questions\": all_data\n",
    "}\n",
    "\n",
    "# Save output to a JSON file\n",
    "subject = meta_info.get(\"subject\")\n",
    "school = meta_info.get(\"school\")\n",
    "year = meta_info.get(\"year\")\n",
    "exam_type = meta_info.get(\"exam_type\")\n",
    "paper = meta_info.get(\"paper\")\n",
    "\n",
    "output_filename = f'{subject}_{school}_{year}_{exam_type}_paper{paper}.json'\n",
    "with open(output_filename, 'w') as f:\n",
    "    json.dump(output_data, f, indent=2)\n",
    "\n",
    "print(\"Extraction complete. Data saved to \", output_filename)"
   ]
  },
  {
   "cell_type": "markdown",
   "metadata": {},
   "source": [
    "## Split PDF into pages"
   ]
  },
  {
   "cell_type": "code",
   "execution_count": 46,
   "metadata": {},
   "outputs": [],
   "source": [
    "import pypdfium2 as pdfium\n",
    "\n",
    "# Load a document\n",
    "pdf = pdfium.PdfDocument(pdf_path)\n",
    "\n",
    "paper_imgs_dir = f\"exam_papers/{output_filename}/\"\n",
    "os.makedirs(paper_imgs_dir, exist_ok=True)\n",
    "\n",
    "# Loop over pages and render\n",
    "for i in range(len(pdf)):\n",
    "    page = pdf[i]\n",
    "    image = page.render(scale=4).to_pil()\n",
    "    image.save(f'{paper_imgs_dir}pg{i+1}.jpg')"
   ]
  },
  {
   "cell_type": "code",
   "execution_count": 47,
   "metadata": {},
   "outputs": [],
   "source": [
    "!pip freeze > requirements.txt"
   ]
  },
  {
   "cell_type": "code",
   "execution_count": null,
   "metadata": {},
   "outputs": [],
   "source": []
  }
 ],
 "metadata": {
  "kernelspec": {
   "display_name": ".venv",
   "language": "python",
   "name": "python3"
  },
  "language_info": {
   "codemirror_mode": {
    "name": "ipython",
    "version": 3
   },
   "file_extension": ".py",
   "mimetype": "text/x-python",
   "name": "python",
   "nbconvert_exporter": "python",
   "pygments_lexer": "ipython3",
   "version": "3.10.5"
  }
 },
 "nbformat": 4,
 "nbformat_minor": 2
}
