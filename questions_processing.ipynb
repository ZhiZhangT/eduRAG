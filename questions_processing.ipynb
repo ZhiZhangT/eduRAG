{
 "cells": [
  {
   "cell_type": "markdown",
   "metadata": {},
   "source": [
    "# Get JSON of an exam paper"
   ]
  },
  {
   "cell_type": "code",
   "execution_count": 11,
   "metadata": {},
   "outputs": [],
   "source": [
    "import os\n",
    "import openai\n",
    "from langchain.chat_models import ChatOpenAI\n",
    "from langchain.prompts import PromptTemplate\n",
    "from langchain.chains import LLMChain\n",
    "from langchain.document_loaders import PyPDFLoader\n",
    "import re\n",
    "import json\n",
    "\n",
    "# Set your OpenAI API key\n",
    "openai.api_key = os.environ.get('OPENAI_API_KEY')\n",
    "\n",
    "# Load the PDF file\n",
    "pdf_path = \"exam_papers/tampinessec_emaths_prelim_p1.pdf\"\n",
    "\n",
    "loader = PyPDFLoader(pdf_path)\n",
    "documents = loader.load()\n",
    "\n",
    "llm = ChatOpenAI(temperature=0, model_name='gpt-4o', api_key=openai.api_key)"
   ]
  },
  {
   "cell_type": "code",
   "execution_count": 12,
   "metadata": {},
   "outputs": [],
   "source": [
    "# Function to extract JSON data from the response\n",
    "def extract_json_from_response(response):\n",
    "    try:\n",
    "        data = json.loads(response)\n",
    "        return data\n",
    "    except json.JSONDecodeError:\n",
    "        # Try to extract JSON from the response using regex\n",
    "        pattern = r'\\[.*\\]'\n",
    "        match = re.search(pattern, response, re.DOTALL)\n",
    "        if match:\n",
    "            json_str = match.group(0)\n",
    "            try:\n",
    "                data = json.loads(json_str)\n",
    "                return data\n",
    "            except json.JSONDecodeError as e:\n",
    "                print(\"Error parsing JSON:\", e)\n",
    "                return None\n",
    "        else:\n",
    "            print(\"No JSON data found in the response.\")\n",
    "            return None\n"
   ]
  },
  {
   "cell_type": "markdown",
   "metadata": {},
   "source": [
    "## Get meta JSON for document"
   ]
  },
  {
   "cell_type": "code",
   "execution_count": 13,
   "metadata": {},
   "outputs": [
    {
     "name": "stderr",
     "output_type": "stream",
     "text": [
      "/var/folders/__/sxrs_frj41bdj4fb9smfcr9m0000gn/T/ipykernel_37731/2903459754.py:36: LangChainDeprecationWarning: The class `LLMChain` was deprecated in LangChain 0.1.17 and will be removed in 1.0. Use :meth:`~RunnableSequence, e.g., `prompt | llm`` instead.\n",
      "  meta_chain = LLMChain(llm=llm, prompt=meta_info_prompt)\n",
      "/var/folders/__/sxrs_frj41bdj4fb9smfcr9m0000gn/T/ipykernel_37731/2903459754.py:40: LangChainDeprecationWarning: The method `Chain.run` was deprecated in langchain 0.1.0 and will be removed in 1.0. Use :meth:`~invoke` instead.\n",
      "  meta_response = meta_chain.run(text_content=first_page_content)\n"
     ]
    }
   ],
   "source": [
    "# Define the prompt to extract meta information\n",
    "meta_info_prompt_template = '''\n",
    "You are provided with text from the first page of a PDF document. Extract the following meta information:\n",
    "- Subject (\"additional_mathematics\" or \"elementary_mathematics\")\n",
    "- School\n",
    "- Level (\"o_level\" or \"a_level\")\n",
    "- Year\n",
    "- Exam type (\"preliminary_exam\", \"final_exam\", \"mid_year_exam\")\n",
    "- Paper (1 or 2)\n",
    "\n",
    "Please output the result as a JSON object with these fields:\n",
    "\n",
    "```json\n",
    "[\n",
    "  <curly_bracket_start>\n",
    "  \"subject\": \"...\",\n",
    "  \"school\": \"...\",\n",
    "  \"level\": \"...\",\n",
    "  \"year\": \"...\",\n",
    "  \"exam_type\": \"...\",\n",
    "  \"paper\": \"...\"\n",
    "  <curly_bracket_end>\n",
    "]\n",
    "```\n",
    "\n",
    "Here is the text content:\n",
    "\n",
    "{text_content}\n",
    "'''\n",
    "\n",
    "meta_info_prompt = PromptTemplate(\n",
    "    input_variables=[\"text_content\"],\n",
    "    template=meta_info_prompt_template,\n",
    ")\n",
    "\n",
    "meta_chain = LLMChain(llm=llm, prompt=meta_info_prompt)\n",
    "\n",
    "# Extract meta information from the first page\n",
    "first_page_content = documents[0].page_content\n",
    "meta_response = meta_chain.run(text_content=first_page_content)"
   ]
  },
  {
   "cell_type": "code",
   "execution_count": 14,
   "metadata": {},
   "outputs": [],
   "source": [
    "meta_info = extract_json_from_response(meta_response)\n",
    "meta_info = meta_info[0] if meta_info else {}"
   ]
  },
  {
   "cell_type": "markdown",
   "metadata": {},
   "source": [
    "## Get JSON for each question"
   ]
  },
  {
   "cell_type": "code",
   "execution_count": 15,
   "metadata": {},
   "outputs": [],
   "source": [
    "# Set maximum pages per chunk to avoid exceeding token limits\n",
    "max_pages_per_chunk = 5\n",
    "\n",
    "chunks = []\n",
    "current_chunk = []\n",
    "current_pages = []\n",
    "for i, doc in enumerate(documents):\n",
    "    page_num = i + 1\n",
    "    current_chunk.append(f\"\\n\\n--- Page {page_num} ---\\n\\n{doc.page_content}\")\n",
    "    current_pages.append(page_num)\n",
    "    if len(current_chunk) == max_pages_per_chunk or i == len(documents) - 1:\n",
    "        text_content = ''.join(current_chunk)\n",
    "        chunks.append((text_content, current_pages.copy()))\n",
    "        current_chunk = []\n",
    "        current_pages = []"
   ]
  },
  {
   "cell_type": "code",
   "execution_count": 16,
   "metadata": {},
   "outputs": [
    {
     "name": "stdout",
     "output_type": "stream",
     "text": [
      "{'Quadratic Functions, Equations and Inequalities': ['Solving simultaneous equations by substitution', 'Finding coordinates of intersection points', 'Finding maximum and minimum value of a quadratic function by completing the square', 'Sketching graph of quadratic function', 'Solving quadratic inequalities', 'Intersection of straight line and curve', 'Always positive/negative quadratic expression', 'Quadratic functions in real-world context'], 'Surds': ['Rationalising denominator of surd', 'Adding and/or subtracting surds', 'Solving equations involving surds', 'Word problems involving surds'], 'Polynomials, cubic equations and partial fractions': ['Identities', 'Identities with an unknown quotient', 'Long division/synthetic method/remainder theorem', 'Application of remainder theorem', 'Sum and difference of 2 cubes', 'Solving cubic equation', 'Factor theorem and solving a cubic equation', 'Factor theorem and sketching of cubic curve', 'Forming cubic equation/expression', 'Proper algebraic fraction with linear factors in denominator', 'Proper algebraic fraction with non-linear factor in denominator', 'Proper algebraic fraction with repeated factors in the denominator', 'Improper algebraic fraction'], 'Binomial theorem and its application': ['Finding coefficients of specific terms', 'Finding values of unknown coefficients', 'Application of factorial', 'Application of general term formula', 'Applications of binomial theorem'], 'Exponential and logarithmic functions': ['Simplifying exponential expressions', 'Solving exponential equations', 'Simplifying logarithmic expressions', 'Applications of laws of logarithms', 'Solving equations involving natural logarithms', 'Solving simultaneous equations involving logarithms', 'Application of change of base', 'Real-life applications of logarithms', 'Graphs of exponential and logarithmic functions', 'Graphical solutions involving exponential/logarithmic graphs'], 'Coordinate geometry': ['Finding equation of perpendicular bisector', 'Finding fourth vertex of parallelogram', 'Finding coordinates of unknown collinear point', 'Finding equation of circle and determining if a point lies on, is inside, or outside a circle', 'Application of tangent in circle'], 'Linear law': ['Converting from linear form to non-linear equation', 'Finding values of unknown constants when given non-linear graph', 'Application of linear law in real-world contexts'], 'Trigonometric functions and equations': ['Finding trigonometric ratios', 'Solving trigonometric equations in degree mode', 'Solving trigonometric equations in radian mode', 'Finding principal values of inverse trigonometric functions', 'Sketching trigonometric graphs', 'Finding angle in a right-angled triangle', 'Real-life modeling using trigonometric function'], 'Trigonometric identities and formulae': ['Finding trigonometric ratios', 'Solving trigonometric equations using basic trigonometric identity', 'Solving trigonometric equations using compound angle formulae', 'Proving trigonometric identities', 'Evaluating trigonometric ratios using compound angle formulae', 'Finding exact values of trigonometric ratios of specific angles', 'R-formula', 'Application of R-formula in word problems'], 'Gradients, derivatives and differentiation techniques': ['Basic differentiation', 'Product rule', 'Quotient rule', 'Finding gradient of curve at a point', 'Increasing and decreasing functions', 'Higher derivatives'], 'Applications of differentiation': ['Applications of differentiation to tangents and normals', 'Rate of change', 'Stationary point', 'Stationary value involving 3 variables', 'Problem on maxima and minima'], 'Differentiation of trigonometric, logarithmic, and exponential functions and their applications': ['Differentiation of trigonometric functions', 'Differentiation of logarithmic functions', 'Differentiation of exponential functions', 'Applications of differentiation of trigonometric functions', 'Applications of differentiation of exponential functions', 'Applications of differentiation of logarithmic functions'], 'Integration': ['Basic integration', 'Integration of trigonometric functions', 'Integration of trigonometric functions using trigonometric formulae', 'Integration of functions in the form of 1/(ax+b)', 'Integration of exponential functions', 'Integration involving partial fractions', 'Finding equation of curve', 'Integration as a reverse process of differentiation', 'Integration as a reverse process of differentiation involving multiple functions'], 'Applications of integration': ['Definite integrals involving algebraic functions', 'Definite integrals involving trigonometric functions', 'Properties of definite integrals', 'Integration as a reverse process of differentiation', 'Integration as a reverse process of differentiation involving multiple functions', 'Area under curve', 'Area above and below x-axis', 'Area bounded by curve, y-axis, and line', 'Area bounded by curve and line', 'Applications of tangent and normal to shaded area'], 'Kinematics': ['Applications of differentiation, given displacement', 'Application of differentiation and integration, given velocity', 'Application of integration, given acceleration', 'Problem involving 2 moving particles'], 'Proofs in plane geometry': ['Proof involving congruent and similar triangles', 'Midpoint theorem', 'Tangent-chord theorem']}\n"
     ]
    }
   ],
   "source": [
    "with open('amath_topics.json') as f:\n",
    "    amath_topics = json.load(f)\n",
    "    print(amath_topics)"
   ]
  },
  {
   "cell_type": "code",
   "execution_count": 17,
   "metadata": {},
   "outputs": [
    {
     "name": "stdout",
     "output_type": "stream",
     "text": [
      "{'Numbers and their operations': ['Classifying numbers', 'Solving a problem involving negative numbers', 'Finding the prime factors of a composite number', 'Finding the highest common factor of 2 numbers', 'Finding the highest common factor of 3 numbers', 'Finding the lowest common factor of 2 numbers', 'Finding the lowest common factor of 3 numbers', 'Evaluating the square root of a number', 'Solving a problem involving a perfect square', 'Evaluating the cube root of a number', 'Solving a problem involving a perfect cube', 'Solving a problem involving a cube root', 'Reciprocals', 'Rounding a whole number to a specified number of significant figures', 'Rounding a decimal to a specified number of significant figures', 'Estimating the answer to a calculation', 'Performing calculations involving prefixes', 'Performing calculations involving standard form', 'Applying the laws of indices', 'Simplifying expressions involving indices'], 'Ratio and proportion': ['Simplifying ratios involving 2 quantities', 'Finding the ratio involving 2 quantities', 'Finding the ratio involving 3 quantities', 'Finding the actual distance and actual area', 'Finding the linear scale of a map', 'Applying direct proportion', 'Finding an equation when y is directly proportional to x', 'Finding an equation when y is directly proportional to square root of x', 'Applying inverse proportion', 'Finding an equation when y is inversely proportional to x', 'Finding an equation when cube of x is inversely proportional to y'], 'Percentage': ['Converting between fractions or decimals and percentages', 'Finding the value, given the percentage', 'Comparing 2 quantities by percentage', 'Increasing or decreasing a quantity by a given percentage', 'Finding the original value using reverse percentages', 'Applying percentage in real-world contexts'], 'Rate and speed': ['Applying rates in real-world contexts', 'Converting from km/h to m/s', 'Finding the distance between 2 points', 'Finding the average speed'], 'Algebraic expressions and formulae': ['Simplifying an algebraic expression', 'Evaluating an algebraic formula', 'Finding the nth term of a sequence with a common difference', 'Finding the nth term of a sequence involving perfect square', 'Finding the nth term of a sequence with a common ratio', 'Solving a problem on number patterns', 'Finding the product of 2 algebraic expressions', 'Using algebraic identities in algebraic expansion', 'Using algebraic identities to evaluate a perfect square', 'Factorising an algebraic expression by extracting common factors', 'Factorising an algebraic expression by grouping', 'Factorising an algebraic expression using algebraic identities', 'Factorising an algebraic expression using the multiplication frame', 'Adding and subtracting algebraic fractions', 'Multiplying and dividing algebraic fractions', 'Changing the subject of a formula'], 'Functions and graphs': ['Sketching the graph of y=mx+c', 'Sketching the graph of y=ax2+bx+c', 'Sketching the graph of y=(x-p)(x-q)', 'Sketching the graph of y=-(x-h)2+k', 'Graphs of cubic functions', 'Graphs of functions in the form a/x and a/x2', 'Graphs of exponential functions', 'Finding the solutions of an equation graphically', 'Estimating the gradient of a curve'], 'Equations and inequalities': ['Solving linear equations', 'Solving simple fractional equations that can be reduced to linear equations', 'Solving simultaneous equations using the method of elimination', 'Solving simultaneous equations using the method of substitution', 'Solving simultaneous equations using the graphical method', 'Solving quadratic equations by factorisation', 'Solving quadratic equations by quadratic formula', 'Solving quadratic equations by completing the square', 'Solving quadratic equations using the graphical method', 'Solving fractional equations that can be reduced to quadratic equations', 'Applying quadratic equations in real-world contexts', 'Solving a linear inequality and illustrating the solution on a number line', 'Solving a linear inequality', 'Finding the largest and smallest values of an expression'], 'Set language and notation': ['Listing the elements of a set', 'Determining whether 2 sets are equal', 'Listing the subsets and proper subsets', 'Complement sets', 'Intersection of 2 sets', 'Shading Venn diagrams, given the set notations', 'Listing the elements of the intersection and union of 2 sets', 'Drawing a Venn diagram'], 'Matrices': ['Displaying information in a matrix', 'Row matrix', 'Column matrix', 'Square matrix', 'Zero or null matrix', 'Addition and subtraction of matrices', 'Scalar multiplication of matrices', 'Multiplication of 2 matrices'], 'Problems in real-world contexts': ['Calculating simple interest', 'Calculating compound interest', 'Comparing simple interest and compound interest', 'Calculating income tax', 'Calculating utilities bill', 'Calculating hire-purchase price', 'Calculating the percentage profit', 'Calculating the cost price if a loss is made', 'Calculating money exchange', 'Interpreting a distance-time graph', 'Interpreting a speed-time graph', 'Interpreting other types of graphs', 'Sketching a water level-time graph'], 'Angles, triangles and polygons': ['Types of angles', 'Complementary and supplementary angles', 'Finding an unknown angle involving angles at a point', 'Finding an unknown angle involving parallel lines', 'Finding unknown angles in triangles', 'Finding unknown angles in a parallelogram', 'Finding unknown angles in a rhombus', 'Finding unknown angles in a trapezium', 'Finding unknown angles in a kite', 'Finding the interior and exterior angles of a regular polygon', 'Finding the number of sides of a polygon', 'Solving a problem involving a polygon', 'Constructing a quadrilateral, a perpendicular bisector, and an angle bisector'], 'Congruence and similarity': ['Proving the 2 triangles are congruent', 'Solving a pair of congruent triangles', 'Determining if 2 triangles are similar', 'Solving a pair of similar triangles', 'Finding the scale factor of an enlargement', 'Finding the ratio of the areas of 2 similar triangles', 'Solving a problem involving triangles', 'Finding the ratio of the lengths of 2 similar solids', 'Finding the mass of a similar solid', 'Finding the ratio of 2 triangles with the same height'], 'Properties of circles': ['Applying the symmetric properties of circles', 'Applying the angles properties of circles'], 'Pythagoras’ theorem and trigonometry': ['Using Pythagoras’ theorem to find the length of an unknown side', 'Determining if a triangle is right-angled', 'Finding an unknown side in a right-angled triangle', 'Finding the trigonometric ratios of acute and obtuse angles', 'Solving simple trigonometric equations', 'Finding the area of a triangle', 'Using the Sine rule to find an unknown side', 'Using the Cosine rule to find an unknown side', 'Applying the Sine and Cosine rule', 'Finding the distance, given the angle of depression', 'Stating the bearing of a point', 'Applying bearings in real-world contexts', 'Solving a 3-dimensional problem'], 'Mensuration': ['Conversion of units', 'Converting between degrees and radians', 'Finding the height of a trapezium', 'Finding the arc length and area of a sector', 'Finding the total surface area of a cone', 'Finding the volume of a sphere', 'Finding the volume and total surface area of a composite solid'], 'Coordinate geometry': ['Finding the gradient of a line', 'Finding the length of a line segment', 'Finding the equation of a straight line', 'Showing that 2 lines are perpendicular to each other'], 'Vectors in 2 dimensions': ['Vector notations', 'Finding the magnitude of a vector', 'Equal vectors', 'Finding the scalar multiple of a vector', 'Finding parallel vectors', 'Proving that 3 points lie in a straight line', 'Zero vector', 'Sum or difference of 2 vectors', 'Relating coordinates to position vectors', 'Solving a geometric problem involving vectors', 'Using vectors to find the ratio of the areas of triangles'], 'Data analysis': ['Reading a bar graph and drawing a pictogram', 'Reading a pie chart', 'Reading a line graph', 'Drawing a dot diagram', 'Drawing a stem-and-leaf diagram', 'Drawing a stem-and-leaf diagram with split stems', 'Drawing a back-to-back stem-and-leaf diagram', 'Drawing a histogram', 'Finding the mean, median and mode', 'Interpreting a cumulative frequency curve', 'Reading a box-and-whisker plot', 'Finding the mean and standard deviation', 'Finding the mean and standard deviation using mid-values'], 'Probability': ['Finding the sample space', 'Finding the probability of single events', 'Finding the probability involving mutually exclusive events', 'Finding the probability involving independent events', 'Finding the probability involving dependent events', 'Using a possibility diagram', 'Using a tree diagram']}\n"
     ]
    }
   ],
   "source": [
    "with open('emath_topics.json') as f:\n",
    "    emath_topics = json.load(f)\n",
    "    print(emath_topics)"
   ]
  },
  {
   "cell_type": "code",
   "execution_count": 18,
   "metadata": {},
   "outputs": [],
   "source": [
    "# Define the prompt template\n",
    "question_prompt_template =  \"\"\"\n",
    "    You are provided with text extracted from a PDF exam paper. The text may include multiple math questions along with diagrams.\n",
    "\n",
    "    Please identify each question, determine the question_number, which is an integer representing the full question (eg: 1, 2, 3), along with the question_part, a string representing the question with any sub-parts that it belongs to (eg: \"1\", \"2a\", \"2b\", \"2ai\", \"2aii\", \"3iv\", \"3v\" etc.).\n",
    "    Please also determine its page boundaries (page_start and page_end), and categorize it into one of the following categories:\n",
    "        {categories}\n",
    "\n",
    "    Output your result as a list of JSON objects enclosed in a code block like this:\n",
    "\n",
    "    ```json\n",
    "    [\"question\": \"...\", \"question_number\": \"...\", \"question_part\": \"...\", \"page_start\": ..., \"page_end\": ..., \"category\": \"...\"]\n",
    "    ```\n",
    "    Please ensure the output is valid JSON.\n",
    "\n",
    "    Here is the text content:\n",
    "    \n",
    "    {text_content}\n",
    "    \"\"\"\n",
    "    "
   ]
  },
  {
   "cell_type": "code",
   "execution_count": 19,
   "metadata": {},
   "outputs": [],
   "source": [
    "prompt = PromptTemplate(\n",
    "    input_variables=[\"text_content\", \"categories\"],\n",
    "    template=question_prompt_template,\n",
    ")\n",
    "\n",
    "questions_chain = LLMChain(llm=llm, prompt=prompt)"
   ]
  },
  {
   "cell_type": "code",
   "execution_count": 20,
   "metadata": {},
   "outputs": [
    {
     "name": "stdout",
     "output_type": "stream",
     "text": [
      "Processing chunk 1/5, pages 1-5\n",
      "Processing chunk 2/5, pages 6-10\n",
      "Processing chunk 3/5, pages 11-15\n",
      "Processing chunk 4/5, pages 16-20\n",
      "Processing chunk 5/5, pages 21-24\n"
     ]
    }
   ],
   "source": [
    "all_data = []\n",
    "\n",
    "subject = meta_info.get(\"subject\")\n",
    "if subject == \"additional_mathematics\":\n",
    "    topics = amath_topics\n",
    "else:\n",
    "    topics = emath_topics\n",
    "    \n",
    "categories = list(topics.keys())\n",
    "\n",
    "for idx, (text_content, pages) in enumerate(chunks):\n",
    "    print(f\"Processing chunk {idx+1}/{len(chunks)}, pages {pages[0]}-{pages[-1]}\")\n",
    "\n",
    "    response = questions_chain.run(text_content=text_content, categories=categories)\n",
    "\n",
    "    data = extract_json_from_response(response)\n",
    "\n",
    "    if data is not None:\n",
    "        all_data.extend(data)\n",
    "    else:\n",
    "        print(f\"Failed to extract data for chunk {idx+1}\")"
   ]
  },
  {
   "cell_type": "code",
   "execution_count": 21,
   "metadata": {},
   "outputs": [
    {
     "name": "stdout",
     "output_type": "stream",
     "text": [
      "[{'question': 'Simplify  36( 1) 9( 1) / 7 28aa bb++÷.', 'question_number': '1', 'question_part': '1a', 'page_start': 3, 'page_end': 3, 'category': 'Algebraic expressions and formulae'}, {'question': '2bvxak= + (i) Find x when a = 2, b = 3, v = – 4 and k = 5.', 'question_number': '1', 'question_part': '1bi', 'page_start': 3, 'page_end': 3, 'category': 'Algebraic expressions and formulae'}, {'question': '2bvxak= + (ii) Rearrange the formula to make v the subject.', 'question_number': '1', 'question_part': '1bii', 'page_start': 3, 'page_end': 3, 'category': 'Algebraic expressions and formulae'}, {'question': 'Solve the simultaneous equations: 4x + 7y = 23, 6x - 2y = -3.', 'question_number': '1', 'question_part': '1c', 'page_start': 4, 'page_end': 4, 'category': 'Equations and inequalities'}, {'question': 'Write as a single fraction in its simplest form: 2 / (x - 3) - 3x / (xy - xy).', 'question_number': '1', 'question_part': '1d', 'page_start': 4, 'page_end': 4, 'category': 'Algebraic expressions and formulae'}, {'question': 'Faiz invested $25,000 in an account which paid simple interest. At the end of 9 months, the value of the investment was $26,500. Calculate the interest rate per annum of the investment.', 'question_number': '2', 'question_part': '2a', 'page_start': 5, 'page_end': 5, 'category': 'Percentage'}, {'question': 'Jane exchanged 500 Singapore dollars ($) into Thai baht (THB) when the exchange rate was $1 = 26.77 THB. She travelled to Thailand and spent 10,600 THB. On her return to Singapore, she exchanged the remaining Thai baht into dollars with the exchange rate $1 = 26.88 THB. Calculate the amount she received in dollars. Correct your answer to the nearest cent.', 'question_number': '2', 'question_part': '2b', 'page_start': 5, 'page_end': 5, 'category': 'Rate and speed'}, {'question': 'The cash price of a furniture set was $2700. Kim bought the set under a hire purchase scheme: 15% deposit and monthly instalments of $68 for 36 months. Calculate the amount of interest paid as a percentage of the cash price.', 'question_number': '2', 'question_part': '2c', 'page_start': 6, 'page_end': 6, 'category': 'Percentage'}, {'question': 'By selling an item at 25% discount off the marked price, a shopkeeper still makes 10% profit on his cost. If the cost price is $180, calculate the marked price of the item.', 'question_number': '2', 'question_part': '2d', 'page_start': 6, 'page_end': 6, 'category': 'Percentage'}, {'question': 'The diagram shows a rectangular cardboard ABCD with AB = (3x + 1) cm and AD = (x + 13) cm. A square of side 3 cm is cut from each corner. The remaining cardboard is then folded along the dotted lines to form an open rectangular box with base PQRS and height 3 cm. The volume of the tray is 930 cm^3. (a) Form an equation, in terms of x, to represent this information and show that it simplifies to 3x^2 + 16x - 345 = 0.', 'question_number': '3', 'question_part': '3a', 'page_start': 7, 'page_end': 7, 'category': 'Algebraic expressions and formulae'}, {'question': 'Solve the equation 3x^2 + 16x - 345 = 0. Give your solutions correct to two decimal places.', 'question_number': '3', 'question_part': '3b', 'page_start': 8, 'page_end': 8, 'category': 'Equations and inequalities'}, {'question': 'Find the length of the diagonal SQ.', 'question_number': '3', 'question_part': '3c', 'page_start': 8, 'page_end': 8, 'category': 'Mensuration'}, {'question': 'A is the point (3, 7) and B is the point (13, -8). (i) Find AB.', 'question_number': '4', 'question_part': '4ai', 'page_start': 9, 'page_end': 9, 'category': 'Vectors in 2 dimensions'}, {'question': 'Given that 2BA = AP, find the coordinates of P.', 'question_number': '4', 'question_part': '4aii', 'page_start': 9, 'page_end': 9, 'category': 'Vectors in 2 dimensions'}, {'question': 'In triangle OCB, A is the midpoint of OC and P is the point on CB such that CP = 3/4 CB. The line OB is produced to D such that OB = 2BD. 2OA = a and 2OB = b. (i) Express CP in terms of a and b, as simply as possible.', 'question_number': '4', 'question_part': '4bi', 'page_start': 10, 'page_end': 10, 'category': 'Vectors in 2 dimensions'}, {'question': 'Express AP in terms of a and b, as simply as possible.', 'question_number': '4', 'question_part': '4bii', 'page_start': 10, 'page_end': 10, 'category': 'Vectors in 2 dimensions'}, {'question': 'Show that A, P and D lie on the same straight line.', 'question_number': '4', 'question_part': '4iii', 'page_start': 11, 'page_end': 11, 'category': 'Coordinate geometry'}, {'question': 'Find Area of ∆CPD / Area of ∆OCB.', 'question_number': '4', 'question_part': '4iv', 'page_start': 11, 'page_end': 11, 'category': 'Coordinate geometry'}, {'question': 'A, B, C and D are four points on level ground, with B due east of A. AC = 43 m, CD = 32 m, AD = 67 m, angle CAB = 52° and angle ABC = 33°. (a) Calculate the bearing of B from C.', 'question_number': '5', 'question_part': '5a', 'page_start': 12, 'page_end': 12, 'category': 'Angles, triangles and polygons'}, {'question': 'Calculate AB.', 'question_number': '5', 'question_part': '5b', 'page_start': 12, 'page_end': 12, 'category': 'Angles, triangles and polygons'}, {'question': 'Calculate angle CDA.', 'question_number': '5', 'question_part': '5c', 'page_start': 13, 'page_end': 13, 'category': 'Angles, triangles and polygons'}, {'question': 'A drone hovers 60 m vertically above D. Find the angle of depression of A from the drone.', 'question_number': '5', 'question_part': '5d', 'page_start': 13, 'page_end': 13, 'category': 'Angles, triangles and polygons'}, {'question': 'The diagram shows a circle with centre O. TA and TB are tangents to the circle at A and B respectively. AT produced meets OB produced at X. (a) Show that triangle OAX is similar to triangle TBX. Give a reason for each statement you make.', 'question_number': '6', 'question_part': '6a', 'page_start': 14, 'page_end': 14, 'category': 'Properties of circles'}, {'question': 'XB = 12 cm and TX = 13 cm. (i) Find OA.', 'question_number': '6', 'question_part': '6bi', 'page_start': 14, 'page_end': 14, 'category': 'Properties of circles'}, {'question': '(ii) Calculate, as a fraction in its simplest form, the numerical value of the ratio area of triangle OATB / area of quadrilateral TBX.', 'question_number': '6', 'question_part': '6bii', 'page_start': 15, 'page_end': 15, 'category': 'Properties of circles'}, {'question': '(iii) Calculate the reflex angle AOB in radians.', 'question_number': '6', 'question_part': '6biii', 'page_start': 15, 'page_end': 15, 'category': 'Properties of circles'}, {'question': 'Complete the table of values for 1610yxx= −− .', 'question_number': '7', 'question_part': '7a', 'page_start': 16, 'page_end': 16, 'category': 'Functions and graphs'}, {'question': 'On the grid opposite, draw the graph of 1610yxx= −− for 19x≤≤ .', 'question_number': '7', 'question_part': '7b', 'page_start': 16, 'page_end': 16, 'category': 'Functions and graphs'}, {'question': 'By drawing a tangent, find the gradient of the curve at x = 3.', 'question_number': '7', 'question_part': '7c', 'page_start': 16, 'page_end': 16, 'category': 'Functions and graphs'}, {'question': 'Use your graph to solve 1690xx−− = .', 'question_number': '7', 'question_part': '7d', 'page_start': 16, 'page_end': 16, 'category': 'Functions and graphs'}, {'question': 'The straight line y = mx – 1 intersects the curve 1610yxx= −− at two points. (i) Write down and simplify the equation, in terms of m, in the form Ax2 + Bx + 16 = 0, which is satisfied by the values of x at the points of intersection.', 'question_number': '7', 'question_part': '7e(i)', 'page_start': 16, 'page_end': 16, 'category': 'Functions and graphs'}, {'question': 'If the values of y at the points of intersection are greater than or equal to zero, find the least value of m.', 'question_number': '7', 'question_part': '7e(ii)', 'page_start': 16, 'page_end': 16, 'category': 'Functions and graphs'}, {'question': 'Use the curve to find (i) the median mass of the eggs.', 'question_number': '8', 'question_part': '8a(i)', 'page_start': 18, 'page_end': 18, 'category': 'Data analysis'}, {'question': 'Use the curve to find (ii) the interquartile range.', 'question_number': '8', 'question_part': '8a(ii)', 'page_start': 18, 'page_end': 18, 'category': 'Data analysis'}, {'question': 'Use the curve to find (iii) the 10th percentile.', 'question_number': '8', 'question_part': '8a(iii)', 'page_start': 18, 'page_end': 18, 'category': 'Data analysis'}, {'question': 'An egg is classified as ‘Medium’ if its mass is greater than or equal to 50 g but less than 56 g. Two eggs are chosen at random. Calculate the probability that both are ‘Medium’ eggs.', 'question_number': '8', 'question_part': '8b', 'page_start': 19, 'page_end': 19, 'category': 'Probability'}, {'question': 'The masses, in grams, of a second batch of 300 eggs are recorded and are represented by the box-and-whisker diagram below. (i) Which batch of the eggs has more consistent mass? Justify your answer using appropriate figures.', 'question_number': '8', 'question_part': '8c(i)', 'page_start': 19, 'page_end': 19, 'category': 'Data analysis'}, {'question': 'The right whisker is longer than the left whisker. Explain what this tells us about the distribution of the data set.', 'question_number': '8', 'question_part': '8c(ii)', 'page_start': 19, 'page_end': 19, 'category': 'Data analysis'}, {'question': 'The table shows the utility charges for Chen’s family in July 2024. It includes the charges for utilities such as electricity (in kilowatt-hours), gas (in kilowatt-hours), water (in cubic metres) and refuse removal. The charges for electricity, gas and water are dependent on their usage while refuse removal is a fixed amount. (a) Calculate the values of p, r and s.', 'question_number': '9', 'question_part': '9a', 'page_start': 21, 'page_end': 21, 'category': 'Problems in real-world contexts'}, {'question': 'Chen considers installing an air-conditioner in his home at the beginning of August. He finds the following information from the National Environmental Agency (NEA) website on energy-efficient appliances and online electrical store. Assuming the costs for gas, water services and refuse removal charge remain unchanged, suggest the model of air-conditioner he should opt for and estimate the August utility charge. Justify any decision you make and show your calculations clearly.', 'question_number': '9', 'question_part': '9b', 'page_start': 22, 'page_end': 23, 'category': 'Problems in real-world contexts'}]\n"
     ]
    }
   ],
   "source": [
    "print(all_data)"
   ]
  },
  {
   "cell_type": "code",
   "execution_count": 22,
   "metadata": {},
   "outputs": [
    {
     "name": "stdout",
     "output_type": "stream",
     "text": [
      "dict_keys(['question', 'question_number', 'question_part', 'page_start', 'page_end', 'category'])\n"
     ]
    }
   ],
   "source": [
    "print(all_data[0].keys())"
   ]
  },
  {
   "cell_type": "code",
   "execution_count": 23,
   "metadata": {},
   "outputs": [],
   "source": [
    "# Define a prompt template for assigning question types\n",
    "question_type_prompt_template = '''\n",
    "Given the following question and its relevant topics, assign the most appropriate question type from the list.\n",
    "\n",
    "Question: {question_text}\n",
    "\n",
    "Relevant Question Types:\n",
    "{question_types_list}\n",
    "\n",
    "Please return the most appropriate question type from the list above. If none of the question types are relevant, you can return \"Unknown\".\n",
    "Simply return the question type as a string, nothing else.\n",
    "'''\n",
    "\n",
    "question_type_prompt = PromptTemplate(\n",
    "    input_variables=[\"question_text\", \"question_types_list\"],\n",
    "    template=question_type_prompt_template,\n",
    ")\n",
    "\n",
    "topics_chain = LLMChain(llm=llm, prompt=question_type_prompt)\n",
    "\n",
    "# Assuming all_data contains the extracted questions and amath_topics is the topic-question type mapping\n",
    "for question in all_data:\n",
    "    q_text = question.get(\"question\")\n",
    "    q_category = question.get(\"category\")\n",
    "    \n",
    "    # Get relevant question types based on the identified category (topic)\n",
    "    relevant_topics = topics.get(q_category)\n",
    "    \n",
    "    # If there are relevant topics, proceed with assigning the question type\n",
    "    if relevant_topics:\n",
    "        question_types_list = \"\\n\".join(relevant_topics)\n",
    "        \n",
    "        # Run the LLM chain to get the most appropriate question type\n",
    "        response = topics_chain.run(question_text=q_text, question_types_list=question_types_list)\n",
    "        \n",
    "        # Assign the question type to the question data\n",
    "        question[\"question_type\"] = response.strip()  # Clean up the response\n",
    "    \n",
    "    else:\n",
    "        # If no relevant topics, mark the question type as unknown\n",
    "        question[\"question_type\"] = \"Unknown\"\n"
   ]
  },
  {
   "cell_type": "markdown",
   "metadata": {},
   "source": [
    "## Combine into one output JSON"
   ]
  },
  {
   "cell_type": "code",
   "execution_count": 24,
   "metadata": {},
   "outputs": [
    {
     "name": "stdout",
     "output_type": "stream",
     "text": [
      "Extraction complete. Data saved to  elementary_mathematics_Tampines Secondary School_2024_preliminary_exam_paper2.json\n"
     ]
    }
   ],
   "source": [
    "# Combine meta information with extracted questions\n",
    "output_data = {\n",
    "    \"meta_info\": meta_info,\n",
    "    \"questions\": all_data\n",
    "}\n",
    "\n",
    "# Save output to a JSON file\n",
    "subject = meta_info.get(\"subject\")\n",
    "school = meta_info.get(\"school\")\n",
    "year = meta_info.get(\"year\")\n",
    "exam_type = meta_info.get(\"exam_type\")\n",
    "paper = meta_info.get(\"paper\")\n",
    "\n",
    "output_filename = f'{subject}_{school}_{year}_{exam_type}_paper{paper}.json'\n",
    "with open(output_filename, 'w') as f:\n",
    "    json.dump(output_data, f, indent=2)\n",
    "\n",
    "print(\"Extraction complete. Data saved to \", output_filename)"
   ]
  },
  {
   "cell_type": "markdown",
   "metadata": {},
   "source": [
    "## Split PDF into pages"
   ]
  },
  {
   "cell_type": "code",
   "execution_count": 25,
   "metadata": {},
   "outputs": [
    {
     "data": {
      "text/plain": [
       "'\\nimport pypdfium2 as pdfium\\n\\n# Load a document\\npdf = pdfium.PdfDocument(pdf_path)\\n\\npaper_imgs_dir = f\"exam_papers/{output_filename}/\"\\nos.makedirs(paper_imgs_dir, exist_ok=True)\\n\\n# Loop over pages and render\\nfor i in range(len(pdf)):\\n    page = pdf[i]\\n    image = page.render(scale=4).to_pil()\\n    image.save(f\\'{paper_imgs_dir}pg{i+1}.jpg\\')\\n'"
      ]
     },
     "execution_count": 25,
     "metadata": {},
     "output_type": "execute_result"
    }
   ],
   "source": [
    "'''\n",
    "import pypdfium2 as pdfium\n",
    "\n",
    "# Load a document\n",
    "pdf = pdfium.PdfDocument(pdf_path)\n",
    "\n",
    "paper_imgs_dir = f\"exam_papers/{output_filename}/\"\n",
    "os.makedirs(paper_imgs_dir, exist_ok=True)\n",
    "\n",
    "# Loop over pages and render\n",
    "for i in range(len(pdf)):\n",
    "    page = pdf[i]\n",
    "    image = page.render(scale=4).to_pil()\n",
    "    image.save(f'{paper_imgs_dir}pg{i+1}.jpg')\n",
    "'''"
   ]
  },
  {
   "cell_type": "code",
   "execution_count": null,
   "metadata": {},
   "outputs": [],
   "source": []
  }
 ],
 "metadata": {
  "kernelspec": {
   "display_name": ".venv",
   "language": "python",
   "name": "python3"
  },
  "language_info": {
   "codemirror_mode": {
    "name": "ipython",
    "version": 3
   },
   "file_extension": ".py",
   "mimetype": "text/x-python",
   "name": "python",
   "nbconvert_exporter": "python",
   "pygments_lexer": "ipython3",
   "version": "3.10.5"
  }
 },
 "nbformat": 4,
 "nbformat_minor": 2
}
